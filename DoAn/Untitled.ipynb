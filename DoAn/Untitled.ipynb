{
 "cells": [
  {
   "cell_type": "code",
   "execution_count": 1,
   "id": "d83f0b34",
   "metadata": {},
   "outputs": [
    {
     "name": "stdout",
     "output_type": "stream",
     "text": [
      "/home/bachtung/miniconda3/envs/p4ds-env/bin/python\r\n"
     ]
    }
   ],
   "source": [
    "!which python "
   ]
  },
  {
   "cell_type": "code",
   "execution_count": 2,
   "id": "68b3b347",
   "metadata": {},
   "outputs": [],
   "source": [
    "import pandas as pd\n",
    "import matplotlib.pyplot as plt\n",
    "import numpy as np"
   ]
  },
  {
   "cell_type": "code",
   "execution_count": 4,
   "id": "fddf3edb",
   "metadata": {},
   "outputs": [
    {
     "data": {
      "text/plain": [
       "<bound method NDFrame.head of         Unnamed: 0       SBD  Ngu Van  Toan Hoc Ma Ngoai Ngu  Ngoai Ngu  \\\n",
       "0                0  24008611     8.00       8.2           N1        7.6   \n",
       "1                1  51000032     6.17       8.6           N1        8.0   \n",
       "2                2  51000005     4.75       5.2          NaN        NaN   \n",
       "3                3  51000021     4.50       4.4          NaN        NaN   \n",
       "4                4  51000013     6.00       5.8           N1        4.4   \n",
       "...            ...       ...      ...       ...          ...        ...   \n",
       "811846      811846  26019104     4.75       4.4           N1        3.4   \n",
       "811847      811847  26019102     6.25       5.2           N1        4.4   \n",
       "811848      811848  26019099     5.00       2.8           N1        2.8   \n",
       "811849      811849  26019101     7.25       6.2           N1        4.0   \n",
       "811850      811850  26019097     5.75       6.4           N1        2.2   \n",
       "\n",
       "        Vat Ly  Hoa Hoc  Sinh Hoc  Lich Su  Dia Ly  GDCD  \n",
       "0          NaN      NaN       NaN     8.25    7.75  8.75  \n",
       "1         8.25      4.5      6.00      NaN     NaN   NaN  \n",
       "2          NaN      NaN       NaN     4.00    4.25  5.75  \n",
       "3          NaN      NaN       NaN     2.25    4.75  5.00  \n",
       "4          NaN      NaN       NaN     7.75    8.25  7.50  \n",
       "...        ...      ...       ...      ...     ...   ...  \n",
       "811846     NaN      NaN       NaN     4.50    5.75  8.50  \n",
       "811847    3.75      4.5      4.00      NaN     NaN   NaN  \n",
       "811848     NaN      NaN       NaN     5.50    5.50  8.00  \n",
       "811849     NaN      NaN       NaN     3.50    6.75  8.50  \n",
       "811850    5.25      4.5      3.75      NaN     NaN   NaN  \n",
       "\n",
       "[811851 rows x 12 columns]>"
      ]
     },
     "execution_count": 4,
     "metadata": {},
     "output_type": "execute_result"
    }
   ],
   "source": [
    "df = pd.read_csv('diemthi2019_update.csv') \n",
    "df.head"
   ]
  }
 ],
 "metadata": {
  "kernelspec": {
   "display_name": "Python 3",
   "language": "python",
   "name": "python3"
  },
  "language_info": {
   "codemirror_mode": {
    "name": "ipython",
    "version": 3
   },
   "file_extension": ".py",
   "mimetype": "text/x-python",
   "name": "python",
   "nbconvert_exporter": "python",
   "pygments_lexer": "ipython3",
   "version": "3.8.8"
  }
 },
 "nbformat": 4,
 "nbformat_minor": 5
}
