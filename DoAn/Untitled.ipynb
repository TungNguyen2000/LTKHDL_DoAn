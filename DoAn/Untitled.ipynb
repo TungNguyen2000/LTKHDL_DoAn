{
 "cells": [
  {
   "cell_type": "markdown",
   "id": "130a1f10",
   "metadata": {},
   "source": [
    "# Phân tích dữ liệu điểm thi tốt nghiệp\n",
    "\n",
    "Nhóm 4:\n",
    "- 18120641 - Nguyễn Bách Tùng\n",
    "- 18120651 - Phạm Hồng Vinh"
   ]
  },
  {
   "cell_type": "markdown",
   "id": "f47227ee",
   "metadata": {},
   "source": [
    "## Dữ liệu\n",
    "\n",
    "Dữ liệu được thu thập tại: https://www.kaggle.com/jonnyjackk/college-entrance-exam-scores-in-vietnam-2019\n",
    "\n",
    "### Quá trình thu thập dữ liệu\n",
    "\n",
    "Tác giả của dữ liệu đã sử dụng repository [bee-university](https://github.com/beecost/bee-university) để crawl dữ liệu từ trang tra cứu điểm thi của báo Tuổi Trẻ (hiện đã ngừng cung cấp dịch vụ tra cứu). Theo những hệ thống tra cứu này, những bài thí sinh không tham gia sẽ mang giá trị NaN"
   ]
  },
  {
   "cell_type": "markdown",
   "id": "7e160db3",
   "metadata": {},
   "source": [
    "## Khám phá dữ liệu"
   ]
  },
  {
   "cell_type": "code",
   "execution_count": 1,
   "id": "d83f0b34",
   "metadata": {},
   "outputs": [
    {
     "name": "stdout",
     "output_type": "stream",
     "text": [
      "/d/miniconda3/envs/p4ds-env/python\n"
     ]
    }
   ],
   "source": [
    "!which python "
   ]
  },
  {
   "cell_type": "code",
   "execution_count": 2,
   "id": "68b3b347",
   "metadata": {},
   "outputs": [],
   "source": [
    "import pandas as pd\n",
    "import matplotlib.pyplot as plt\n",
    "import numpy as np"
   ]
  },
  {
   "cell_type": "code",
   "execution_count": 3,
   "id": "71908811",
   "metadata": {},
   "outputs": [
    {
     "data": {
      "text/html": [
       "<div>\n",
       "<style scoped>\n",
       "    .dataframe tbody tr th:only-of-type {\n",
       "        vertical-align: middle;\n",
       "    }\n",
       "\n",
       "    .dataframe tbody tr th {\n",
       "        vertical-align: top;\n",
       "    }\n",
       "\n",
       "    .dataframe thead th {\n",
       "        text-align: right;\n",
       "    }\n",
       "</style>\n",
       "<table border=\"1\" class=\"dataframe\">\n",
       "  <thead>\n",
       "    <tr style=\"text-align: right;\">\n",
       "      <th></th>\n",
       "      <th>SBD</th>\n",
       "      <th>Ngu Van</th>\n",
       "      <th>Toan Hoc</th>\n",
       "      <th>Ma Ngoai Ngu</th>\n",
       "      <th>Ngoai Ngu</th>\n",
       "      <th>Vat Ly</th>\n",
       "      <th>Hoa Hoc</th>\n",
       "      <th>Sinh Hoc</th>\n",
       "      <th>Lich Su</th>\n",
       "      <th>Dia Ly</th>\n",
       "      <th>GDCD</th>\n",
       "    </tr>\n",
       "  </thead>\n",
       "  <tbody>\n",
       "    <tr>\n",
       "      <th>0</th>\n",
       "      <td>24008611</td>\n",
       "      <td>8.00</td>\n",
       "      <td>8.2</td>\n",
       "      <td>N1</td>\n",
       "      <td>7.6</td>\n",
       "      <td>NaN</td>\n",
       "      <td>NaN</td>\n",
       "      <td>NaN</td>\n",
       "      <td>8.25</td>\n",
       "      <td>7.75</td>\n",
       "      <td>8.75</td>\n",
       "    </tr>\n",
       "    <tr>\n",
       "      <th>1</th>\n",
       "      <td>51000032</td>\n",
       "      <td>6.17</td>\n",
       "      <td>8.6</td>\n",
       "      <td>N1</td>\n",
       "      <td>8.0</td>\n",
       "      <td>8.25</td>\n",
       "      <td>4.5</td>\n",
       "      <td>6.0</td>\n",
       "      <td>NaN</td>\n",
       "      <td>NaN</td>\n",
       "      <td>NaN</td>\n",
       "    </tr>\n",
       "    <tr>\n",
       "      <th>2</th>\n",
       "      <td>51000005</td>\n",
       "      <td>4.75</td>\n",
       "      <td>5.2</td>\n",
       "      <td>NaN</td>\n",
       "      <td>NaN</td>\n",
       "      <td>NaN</td>\n",
       "      <td>NaN</td>\n",
       "      <td>NaN</td>\n",
       "      <td>4.00</td>\n",
       "      <td>4.25</td>\n",
       "      <td>5.75</td>\n",
       "    </tr>\n",
       "    <tr>\n",
       "      <th>3</th>\n",
       "      <td>51000021</td>\n",
       "      <td>4.50</td>\n",
       "      <td>4.4</td>\n",
       "      <td>NaN</td>\n",
       "      <td>NaN</td>\n",
       "      <td>NaN</td>\n",
       "      <td>NaN</td>\n",
       "      <td>NaN</td>\n",
       "      <td>2.25</td>\n",
       "      <td>4.75</td>\n",
       "      <td>5.00</td>\n",
       "    </tr>\n",
       "    <tr>\n",
       "      <th>4</th>\n",
       "      <td>51000013</td>\n",
       "      <td>6.00</td>\n",
       "      <td>5.8</td>\n",
       "      <td>N1</td>\n",
       "      <td>4.4</td>\n",
       "      <td>NaN</td>\n",
       "      <td>NaN</td>\n",
       "      <td>NaN</td>\n",
       "      <td>7.75</td>\n",
       "      <td>8.25</td>\n",
       "      <td>7.50</td>\n",
       "    </tr>\n",
       "  </tbody>\n",
       "</table>\n",
       "</div>"
      ],
      "text/plain": [
       "        SBD  Ngu Van  Toan Hoc Ma Ngoai Ngu  Ngoai Ngu  Vat Ly  Hoa Hoc  \\\n",
       "0  24008611     8.00       8.2           N1        7.6     NaN      NaN   \n",
       "1  51000032     6.17       8.6           N1        8.0    8.25      4.5   \n",
       "2  51000005     4.75       5.2          NaN        NaN     NaN      NaN   \n",
       "3  51000021     4.50       4.4          NaN        NaN     NaN      NaN   \n",
       "4  51000013     6.00       5.8           N1        4.4     NaN      NaN   \n",
       "\n",
       "   Sinh Hoc  Lich Su  Dia Ly  GDCD  \n",
       "0       NaN     8.25    7.75  8.75  \n",
       "1       6.0      NaN     NaN   NaN  \n",
       "2       NaN     4.00    4.25  5.75  \n",
       "3       NaN     2.25    4.75  5.00  \n",
       "4       NaN     7.75    8.25  7.50  "
      ]
     },
     "execution_count": 3,
     "metadata": {},
     "output_type": "execute_result"
    }
   ],
   "source": [
    "df = pd.read_csv('diemthi2019_update.csv').drop(columns=\"Unnamed: 0\")\n",
    "df.head()"
   ]
  },
  {
   "cell_type": "markdown",
   "id": "883ec43a",
   "metadata": {},
   "source": [
    "### Dữ liệu có bao nhiêu dòng và bao nhiêu cột\n",
    "\n",
    "Dữ liệu có 811,851 dòng và 11 cột. Mỗi dòng là một học sinh với điểm thi THPT tương ứng"
   ]
  },
  {
   "cell_type": "code",
   "execution_count": 4,
   "id": "c67c0053",
   "metadata": {},
   "outputs": [
    {
     "name": "stdout",
     "output_type": "stream",
     "text": [
      "Rows: 811851\n",
      "Cols: 11\n"
     ]
    }
   ],
   "source": [
    "print(\"Rows:\", df.shape[0])\n",
    "print(\"Cols:\", df.shape[1])"
   ]
  },
  {
   "cell_type": "markdown",
   "id": "74034247",
   "metadata": {},
   "source": [
    "### Dữ liệu có các dòng bị lặp không?\n",
    "\n",
    "Các dòng không có dữ liệu bị lặp dựa trên Số Báo Danh"
   ]
  },
  {
   "cell_type": "code",
   "execution_count": 5,
   "id": "70a55088",
   "metadata": {},
   "outputs": [
    {
     "name": "stdout",
     "output_type": "stream",
     "text": [
      "No. duplicate: 0\n"
     ]
    },
    {
     "data": {
      "text/html": [
       "<div>\n",
       "<style scoped>\n",
       "    .dataframe tbody tr th:only-of-type {\n",
       "        vertical-align: middle;\n",
       "    }\n",
       "\n",
       "    .dataframe tbody tr th {\n",
       "        vertical-align: top;\n",
       "    }\n",
       "\n",
       "    .dataframe thead th {\n",
       "        text-align: right;\n",
       "    }\n",
       "</style>\n",
       "<table border=\"1\" class=\"dataframe\">\n",
       "  <thead>\n",
       "    <tr style=\"text-align: right;\">\n",
       "      <th></th>\n",
       "      <th>SBD</th>\n",
       "      <th>Ngu Van</th>\n",
       "      <th>Toan Hoc</th>\n",
       "      <th>Ma Ngoai Ngu</th>\n",
       "      <th>Ngoai Ngu</th>\n",
       "      <th>Vat Ly</th>\n",
       "      <th>Hoa Hoc</th>\n",
       "      <th>Sinh Hoc</th>\n",
       "      <th>Lich Su</th>\n",
       "      <th>Dia Ly</th>\n",
       "      <th>GDCD</th>\n",
       "    </tr>\n",
       "  </thead>\n",
       "  <tbody>\n",
       "  </tbody>\n",
       "</table>\n",
       "</div>"
      ],
      "text/plain": [
       "Empty DataFrame\n",
       "Columns: [SBD, Ngu Van, Toan Hoc, Ma Ngoai Ngu, Ngoai Ngu, Vat Ly, Hoa Hoc, Sinh Hoc, Lich Su, Dia Ly, GDCD]\n",
       "Index: []"
      ]
     },
     "execution_count": 5,
     "metadata": {},
     "output_type": "execute_result"
    }
   ],
   "source": [
    "id_duplicated = df[df.duplicated(['SBD'], keep=False)]\n",
    "print(\"No. duplicate:\", len(id_duplicated))\n",
    "id_duplicated"
   ]
  },
  {
   "cell_type": "markdown",
   "id": "c7cb57eb",
   "metadata": {},
   "source": [
    "### Mỗi cột có ý nghĩa gì?\n",
    "\n",
    "Ta có 11 cột bao gồm:\n",
    "* SBD: Số báo danh của học sinh trong kỳ thi\n",
    "* Ngu Van: Điểm môn thi Ngữ Văn\n",
    "* Toan Hoc: Điểm môn thi Toán Học\n",
    "* Ma Ngoai Ngu: Mã đối với các môn thi Ngoại Ngữ trong đó:\n",
    "    - N1: Tiếng Anh\n",
    "    - N2: Tiếng Nga\n",
    "    - N3: Tiếng Pháp\n",
    "    - N4: Tiếng Trung\n",
    "    - N5: Tiếng Đức\n",
    "    - N6: Tiếng Nhật\n",
    "* Ngoai Ngu: Điểm môn thi Ngoại Ngữ\n",
    "* Vat Ly: Điểm môn thi Vật Lý\n",
    "* Hoa Hoc: Điểm môn thi Hóa Học\n",
    "* Sinh Hoc: Điểm môn thi Sinh Học\n",
    "* Lich Su: Điểm môn thi Lịch Sử\n",
    "* Dia Ly: Điểm môn thi Địa Lý\n",
    "* GDCD: Điểm môn thi GDCD"
   ]
  },
  {
   "cell_type": "markdown",
   "id": "ef05e828",
   "metadata": {},
   "source": [
    "### Mỗi cột hiện đang có kiểu dữ liệu gì? Có cột nào có kiểu dữ liệu chưa phù hợp để có thể xử lý tiếp không?\n",
    "\n",
    "Các cột điểm thi đều có kiểu dữ liệu `float64`. Riêng cột `SBD` là `int64` và `Ma Ngoai Ngu` là `string`. Đây là các kiểu dữ liệu phù hợp để xử lý."
   ]
  },
  {
   "cell_type": "code",
   "execution_count": 6,
   "id": "9c5c57a8",
   "metadata": {},
   "outputs": [
    {
     "data": {
      "text/plain": [
       "SBD               int64\n",
       "Ngu Van         float64\n",
       "Toan Hoc        float64\n",
       "Ma Ngoai Ngu     object\n",
       "Ngoai Ngu       float64\n",
       "Vat Ly          float64\n",
       "Hoa Hoc         float64\n",
       "Sinh Hoc        float64\n",
       "Lich Su         float64\n",
       "Dia Ly          float64\n",
       "GDCD            float64\n",
       "dtype: object"
      ]
     },
     "execution_count": 6,
     "metadata": {},
     "output_type": "execute_result"
    }
   ],
   "source": [
    "df.dtypes"
   ]
  },
  {
   "cell_type": "markdown",
   "id": "09971fb1",
   "metadata": {},
   "source": [
    "### Với mỗi cột có kiểu dữ liệu dạng số (numeric), các giá trị được phân bố như thế nào?"
   ]
  },
  {
   "cell_type": "code",
   "execution_count": 7,
   "id": "e14c6674",
   "metadata": {},
   "outputs": [],
   "source": [
    "df = df.set_index(\"SBD\")"
   ]
  },
  {
   "cell_type": "markdown",
   "id": "fc08144d",
   "metadata": {},
   "source": [
    "#### Giá trị min/max của các cột\n",
    "\n",
    "Ta có thể thấy, tất cả các cột số (các cột điểm thi môn học) đều có giá trị nhỏ nhất là 0 điểm và giá trị lớn nhất là 10 điểm (riêng môn Ngữ Văn không có điểm 10 mà chỉ đến 9.5). Vậy tức là dù ở môn nào, vẫn có học sinh bị điểm 0?"
   ]
  },
  {
   "cell_type": "code",
   "execution_count": 8,
   "id": "cc0df523",
   "metadata": {},
   "outputs": [
    {
     "data": {
      "text/html": [
       "<div>\n",
       "<style scoped>\n",
       "    .dataframe tbody tr th:only-of-type {\n",
       "        vertical-align: middle;\n",
       "    }\n",
       "\n",
       "    .dataframe tbody tr th {\n",
       "        vertical-align: top;\n",
       "    }\n",
       "\n",
       "    .dataframe thead th {\n",
       "        text-align: right;\n",
       "    }\n",
       "</style>\n",
       "<table border=\"1\" class=\"dataframe\">\n",
       "  <thead>\n",
       "    <tr style=\"text-align: right;\">\n",
       "      <th></th>\n",
       "      <th>Ngu Van</th>\n",
       "      <th>Toan Hoc</th>\n",
       "      <th>Ngoai Ngu</th>\n",
       "      <th>Vat Ly</th>\n",
       "      <th>Hoa Hoc</th>\n",
       "      <th>Sinh Hoc</th>\n",
       "      <th>Lich Su</th>\n",
       "      <th>Dia Ly</th>\n",
       "      <th>GDCD</th>\n",
       "    </tr>\n",
       "  </thead>\n",
       "  <tbody>\n",
       "    <tr>\n",
       "      <th>count</th>\n",
       "      <td>799208.000000</td>\n",
       "      <td>807762.000000</td>\n",
       "      <td>728513.000000</td>\n",
       "      <td>292166.000000</td>\n",
       "      <td>295544.000000</td>\n",
       "      <td>291199.000000</td>\n",
       "      <td>542729.000000</td>\n",
       "      <td>535897.000000</td>\n",
       "      <td>470905.000000</td>\n",
       "    </tr>\n",
       "    <tr>\n",
       "      <th>mean</th>\n",
       "      <td>5.442390</td>\n",
       "      <td>5.573748</td>\n",
       "      <td>4.240692</td>\n",
       "      <td>5.563926</td>\n",
       "      <td>5.342898</td>\n",
       "      <td>4.665719</td>\n",
       "      <td>4.293683</td>\n",
       "      <td>5.988069</td>\n",
       "      <td>7.353802</td>\n",
       "    </tr>\n",
       "    <tr>\n",
       "      <th>std</th>\n",
       "      <td>1.353822</td>\n",
       "      <td>1.758361</td>\n",
       "      <td>1.750507</td>\n",
       "      <td>1.619208</td>\n",
       "      <td>1.594621</td>\n",
       "      <td>1.247124</td>\n",
       "      <td>1.439408</td>\n",
       "      <td>1.232252</td>\n",
       "      <td>1.270562</td>\n",
       "    </tr>\n",
       "    <tr>\n",
       "      <th>min</th>\n",
       "      <td>0.000000</td>\n",
       "      <td>0.000000</td>\n",
       "      <td>0.000000</td>\n",
       "      <td>0.000000</td>\n",
       "      <td>0.000000</td>\n",
       "      <td>0.000000</td>\n",
       "      <td>0.000000</td>\n",
       "      <td>0.000000</td>\n",
       "      <td>0.000000</td>\n",
       "    </tr>\n",
       "    <tr>\n",
       "      <th>25%</th>\n",
       "      <td>4.670000</td>\n",
       "      <td>4.200000</td>\n",
       "      <td>3.000000</td>\n",
       "      <td>4.500000</td>\n",
       "      <td>4.250000</td>\n",
       "      <td>3.750000</td>\n",
       "      <td>3.250000</td>\n",
       "      <td>5.250000</td>\n",
       "      <td>6.500000</td>\n",
       "    </tr>\n",
       "    <tr>\n",
       "      <th>50%</th>\n",
       "      <td>5.500000</td>\n",
       "      <td>5.600000</td>\n",
       "      <td>3.800000</td>\n",
       "      <td>5.750000</td>\n",
       "      <td>5.500000</td>\n",
       "      <td>4.500000</td>\n",
       "      <td>4.000000</td>\n",
       "      <td>6.000000</td>\n",
       "      <td>7.500000</td>\n",
       "    </tr>\n",
       "    <tr>\n",
       "      <th>75%</th>\n",
       "      <td>6.500000</td>\n",
       "      <td>7.000000</td>\n",
       "      <td>5.200000</td>\n",
       "      <td>6.750000</td>\n",
       "      <td>6.500000</td>\n",
       "      <td>5.250000</td>\n",
       "      <td>5.000000</td>\n",
       "      <td>6.750000</td>\n",
       "      <td>8.250000</td>\n",
       "    </tr>\n",
       "    <tr>\n",
       "      <th>max</th>\n",
       "      <td>9.500000</td>\n",
       "      <td>10.000000</td>\n",
       "      <td>10.000000</td>\n",
       "      <td>10.000000</td>\n",
       "      <td>10.000000</td>\n",
       "      <td>10.000000</td>\n",
       "      <td>10.000000</td>\n",
       "      <td>10.000000</td>\n",
       "      <td>10.000000</td>\n",
       "    </tr>\n",
       "  </tbody>\n",
       "</table>\n",
       "</div>"
      ],
      "text/plain": [
       "             Ngu Van       Toan Hoc      Ngoai Ngu         Vat Ly  \\\n",
       "count  799208.000000  807762.000000  728513.000000  292166.000000   \n",
       "mean        5.442390       5.573748       4.240692       5.563926   \n",
       "std         1.353822       1.758361       1.750507       1.619208   \n",
       "min         0.000000       0.000000       0.000000       0.000000   \n",
       "25%         4.670000       4.200000       3.000000       4.500000   \n",
       "50%         5.500000       5.600000       3.800000       5.750000   \n",
       "75%         6.500000       7.000000       5.200000       6.750000   \n",
       "max         9.500000      10.000000      10.000000      10.000000   \n",
       "\n",
       "             Hoa Hoc       Sinh Hoc        Lich Su         Dia Ly  \\\n",
       "count  295544.000000  291199.000000  542729.000000  535897.000000   \n",
       "mean        5.342898       4.665719       4.293683       5.988069   \n",
       "std         1.594621       1.247124       1.439408       1.232252   \n",
       "min         0.000000       0.000000       0.000000       0.000000   \n",
       "25%         4.250000       3.750000       3.250000       5.250000   \n",
       "50%         5.500000       4.500000       4.000000       6.000000   \n",
       "75%         6.500000       5.250000       5.000000       6.750000   \n",
       "max        10.000000      10.000000      10.000000      10.000000   \n",
       "\n",
       "                GDCD  \n",
       "count  470905.000000  \n",
       "mean        7.353802  \n",
       "std         1.270562  \n",
       "min         0.000000  \n",
       "25%         6.500000  \n",
       "50%         7.500000  \n",
       "75%         8.250000  \n",
       "max        10.000000  "
      ]
     },
     "execution_count": 8,
     "metadata": {},
     "output_type": "execute_result"
    }
   ],
   "source": [
    "df.describe()"
   ]
  },
  {
   "cell_type": "markdown",
   "id": "4cd6e269",
   "metadata": {},
   "source": [
    "Với sự trợ giúp của boxplot, ta có thể được cái nhìn trực quan của các môn học:\n",
    "- Môn GDCD có median cao nhất (7.5 điểm) và môn ngoại ngữ có median thấp nhất (3.8 điểm) \n",
    "- Với các ngưỡng trên, chỉ Toán, Lý, và GDCD không coi việc đạt điểm 10 là outlier, có thể nói đề của các môn này năm 2019 khá dễ. (Nhận xét từ các nguồn khác: [đề Toán](https://vnexpress.net/phan-dong-thi-sinh-de-tho-voi-de-toan-3943512.html), [đề Lý](https://laodong.vn/giao-duc/giao-vien-nhan-xet-de-thi-vat-li-thpt-quoc-gia-2019-nhu-the-nao-740950.ldo)\n",
    "- Riêng các môn Sinh học và Lịch sử, học sinh chủ yếu tập trung quanh median, vậy nên các điểm trên 7.5 được coi là outlier. Việc này ngầm khẳng định đề của 2 môn này có phần khó hơn các môn còn lại"
   ]
  },
  {
   "cell_type": "code",
   "execution_count": 21,
   "id": "8e4e5def",
   "metadata": {},
   "outputs": [
    {
     "data": {
      "image/png": "[encoded data removed]",
      "text/plain": [
       "<Figure size 1080x576 with 1 Axes>"
      ]
     },
     "metadata": {
      "needs_background": "light"
     },
     "output_type": "display_data"
    }
   ],
   "source": [
    "df.drop(columns=\"Ma Ngoai Ngu\").boxplot(figsize=(15, 8), fontsize='large')\n",
    "plt.yticks(range(11))\n",
    "plt.xlabel(\"Môn thi đang xét\", fontsize=18)\n",
    "plt.ylabel(\"Điểm thi\", fontsize=18)\n",
    "plt.title(\"Boxplot về điểm của các môn thi\", fontsize=18)\n",
    "plt.show()"
   ]
  },
  {
   "cell_type": "markdown",
   "id": "58b7ce73",
   "metadata": {},
   "source": [
    "#### Tỷ lệ giá trị thiếu của các cột điểm thi và mã ngoại ngữ\n",
    "\n",
    "Ta có thể thấy các môn có tỉ lệ các giá trị thiếu ít nhất là các môn bắt buộc Toán, Ngữ văn và Ngoại Ngữ.\n",
    "\n",
    "Nhóm môn Xã Hội nhìn chung có tỉ lệ giá trị thiếu (30%-40%) ít hơn nhóm môn Tự Nhiên (~65%)\n",
    "\n",
    "Điều này làm ta tự hỏi:\n",
    "* Tại sao các môn Tự Nhiên lại có tỷ lệ thiếu cao như vậy\n",
    "* Liệu một học sinh có thể không tham gia thi cả hai nhóm môn Xã Hội và Tự nhiên?\n",
    "* Có bao nhiêu học sinh bỏ thi hoàn toàn? Hoặc chỉ thi 1 hoặc 2 môn"
   ]
  },
  {
   "cell_type": "code",
   "execution_count": 9,
   "id": "f76ea7b3",
   "metadata": {},
   "outputs": [
    {
     "data": {
      "image/png": "[encoded data removed]",
      "text/plain": [
       "<Figure size 432x288 with 1 Axes>"
      ]
     },
     "metadata": {
      "needs_background": "light"
     },
     "output_type": "display_data"
    }
   ],
   "source": [
    "def missing_ratio(x):\n",
    "    return round(x.isnull().sum()/len(x) * 100, 2)\n",
    "df.agg(missing_ratio).plot.barh()\n",
    "plt.xlabel(\"Tỷ lệ % dữ liệu thiếu\")\n",
    "plt.show()"
   ]
  },
  {
   "cell_type": "markdown",
   "id": "a885bb6c",
   "metadata": {},
   "source": [
    "#### Phân bố điểm thi của nhóm môn Khoa học Xã hội"
   ]
  },
  {
   "cell_type": "code",
   "execution_count": 23,
   "id": "d5479a61",
   "metadata": {},
   "outputs": [
    {
     "data": {
      "image/png": "[encoded data removed]",
      "text/plain": [
       "<Figure size 432x288 with 1 Axes>"
      ]
     },
     "metadata": {
      "needs_background": "light"
     },
     "output_type": "display_data"
    }
   ],
   "source": [
    "nv_series = df[\"Ngu Van\"]\n",
    "nv_series.plot.hist(bins=20)\n",
    "plt.axvline(x=nv_series.mean(), color='r', label=\"trung bình\")\n",
    "plt.xticks(list(range(0, 11,2)) + [round(nv_series.mean(),1)])\n",
    "plt.legend()\n",
    "plt.ylabel(\"Tần suất\")\n",
    "plt.xlabel(\"Điểm\")\n",
    "plt.title(\"Phân bố điểm thi môn Ngữ Văn\")\n",
    "plt.show()"
   ]
  },
  {
   "cell_type": "code",
   "execution_count": 24,
   "id": "392f1c0c",
   "metadata": {},
   "outputs": [
    {
     "data": {
      "image/png": "[encoded data removed]",
      "text/plain": [
       "<Figure size 432x288 with 1 Axes>"
      ]
     },
     "metadata": {
      "needs_background": "light"
     },
     "output_type": "display_data"
    }
   ],
   "source": [
    "ls_series = df[\"Lich Su\"]\n",
    "ls_series.plot.hist(bins=20)\n",
    "plt.axvline(x=ls_series.mean(), color='r', label=\"trung bình\")\n",
    "plt.xticks(list(range(0, 11,2)) + [round(ls_series.mean(),1)])\n",
    "plt.legend()\n",
    "plt.ylabel(\"Tần suất\")\n",
    "plt.xlabel(\"Điểm\")\n",
    "plt.title(\"Phân bố điểm thi môn Lịch Sử\")\n",
    "plt.show()"
   ]
  },
  {
   "cell_type": "code",
   "execution_count": 25,
   "id": "2f667a4c",
   "metadata": {},
   "outputs": [
    {
     "data": {
      "image/png": "[encoded data removed]",
      "text/plain": [
       "<Figure size 432x288 with 1 Axes>"
      ]
     },
     "metadata": {
      "needs_background": "light"
     },
     "output_type": "display_data"
    }
   ],
   "source": [
    "cd_series = df[\"GDCD\"]\n",
    "cd_series.plot.hist(bins=20)\n",
    "plt.axvline(x=cd_series.mean(), color='r', label=\"trung bình\")\n",
    "plt.xticks(list(range(0, 11,2)) + [round(cd_series.mean(),1)])\n",
    "plt.legend()\n",
    "plt.ylabel(\"Tần suất\")\n",
    "plt.xlabel(\"Điểm\")\n",
    "plt.title(\"Phân bố điểm thi môn GDCD\")\n",
    "plt.show()"
   ]
  },
  {
   "cell_type": "code",
   "execution_count": 26,
   "id": "db2c0620",
   "metadata": {},
   "outputs": [
    {
     "data": {
      "image/png": "[encoded data removed]",
      "text/plain": [
       "<Figure size 432x288 with 1 Axes>"
      ]
     },
     "metadata": {
      "needs_background": "light"
     },
     "output_type": "display_data"
    }
   ],
   "source": [
    "dl_series = df[\"Dia Ly\"]\n",
    "dl_series.plot.hist(bins=20)\n",
    "plt.axvline(x=dl_series.mean(), color='r', label=\"trung bình\")\n",
    "plt.xticks(list(range(0, 11,2)) + [round(dl_series.mean(),1)])\n",
    "plt.legend()\n",
    "plt.ylabel(\"Tần suất\")\n",
    "plt.xlabel(\"Điểm\")\n",
    "plt.title(\"Phân bố điểm thi môn Địa Lý\")\n",
    "plt.show()"
   ]
  },
  {
   "cell_type": "code",
   "execution_count": 27,
   "id": "4cd07278",
   "metadata": {},
   "outputs": [
    {
     "data": {
      "image/png": "[encoded data removed]",
      "text/plain": [
       "<Figure size 432x288 with 1 Axes>"
      ]
     },
     "metadata": {
      "needs_background": "light"
     },
     "output_type": "display_data"
    }
   ],
   "source": [
    "nn_series = df[\"Ngoai Ngu\"]\n",
    "nn_series.plot.hist(bins=20)\n",
    "plt.axvline(x=nn_series.mean(), color='r', label=\"trung bình\")\n",
    "plt.xticks(list(range(0, 11,2)) + [round(nn_series.mean(),1)])\n",
    "plt.legend()\n",
    "plt.ylabel(\"Tần suất\")\n",
    "plt.xlabel(\"Điểm\")\n",
    "plt.title(\"Phân bố điểm thi môn Ngoại Ngữ\")\n",
    "plt.show()"
   ]
  },
  {
   "cell_type": "markdown",
   "id": "575a40ba",
   "metadata": {},
   "source": [
    "##### Phân tích các Mã Ngoại ngữ và phân bố điểm thi cho từng Mã Ngoại ngữ\n",
    "\n",
    "Đầu tiên, ta tìm hiểu các giá trị của Mã Ngoại ngữ và phần trăm xuất hiện. Như có thể thấy, tiếng Anh chiếm đến 89% trong tổng số thí sinh và các nhóm ngoại ngữ còn lại chiếm chưa đến 1%. Điều này cũng phù hợp với tìm kiếm của ta lúc trước khi có đến 10% thí sinh bỏ thi môn Ngoại Ngữ"
   ]
  },
  {
   "cell_type": "code",
   "execution_count": 34,
   "id": "5b3fc1d4",
   "metadata": {},
   "outputs": [
    {
     "data": {
      "text/plain": [
       "Tiếng Anh      89.433160\n",
       "Tiếng Trung     0.098663\n",
       "Tiếng Nhật      0.095215\n",
       "Tiếng Pháp      0.079571\n",
       "Tiếng Nga       0.018230\n",
       "Tiếng Đức       0.009977\n",
       "Name: Ma Ngoai Ngu, dtype: float64"
      ]
     },
     "execution_count": 34,
     "metadata": {},
     "output_type": "execute_result"
    }
   ],
   "source": [
    "nn_dict = {\n",
    "    \"N1\": \"Tiếng Anh\",\n",
    "    \"N2\": \"Tiếng Nga\",\n",
    "    \"N3\": \"Tiếng Pháp\",\n",
    "    \"N4\": \"Tiếng Trung\",\n",
    "    \"N5\": \"Tiếng Đức\",\n",
    "    \"N6\": \"Tiếng Nhật\",\n",
    "}\n",
    "\n",
    "df[\"Ma Ngoai Ngu\"].value_counts().rename(nn_dict)/len(df[\"Ma Ngoai Ngu\"]) * 100"
   ]
  },
  {
   "cell_type": "code",
   "execution_count": 29,
   "id": "91b2e703",
   "metadata": {},
   "outputs": [
    {
     "data": {
      "image/png": "[encoded data removed]",
      "text/plain": [
       "<Figure size 1440x1440 with 6 Axes>"
      ]
     },
     "metadata": {
      "needs_background": "light"
     },
     "output_type": "display_data"
    }
   ],
   "source": [
    "nn_df = pd.DataFrame(df[[\"Ngoai Ngu\", \"Ma Ngoai Ngu\"]]).replace(nn_dict)\n",
    "\n",
    "nn_df[\"Ngoai Ngu\"].hist(by=nn_df[\"Ma Ngoai Ngu\"], figsize=(20,20), bins=10)\n",
    "plt.tight_layout()\n",
    "plt.title(\"Phân bố điểm thi dựa trên Mã Ngoại ngữ đã chọn\")\n",
    "plt.show()"
   ]
  },
  {
   "cell_type": "markdown",
   "id": "64e5ce10",
   "metadata": {},
   "source": [
    "Khi biểu diễn tương quan giữa các khoa học xã hội, ta thấy:\n",
    "- Nhóm môn Lịch Sử, Địa Lý và GDCD có sự tương quan mạnh với nhau, có vẻ như các học sinh học tổ hợp này ôn đều cho 3 môn"
   ]
  },
  {
   "cell_type": "code",
   "execution_count": 22,
   "id": "b1b99793",
   "metadata": {},
   "outputs": [
    {
     "data": {
      "text/html": [
       "<style  type=\"text/css\" >\n",
       "#T_7b141_row0_col0,#T_7b141_row1_col1,#T_7b141_row2_col2,#T_7b141_row2_col3,#T_7b141_row2_col4,#T_7b141_row3_col2,#T_7b141_row3_col3,#T_7b141_row3_col4,#T_7b141_row4_col2,#T_7b141_row4_col3,#T_7b141_row4_col4{\n",
       "            background-color:  green;\n",
       "        }#T_7b141_row0_col1,#T_7b141_row0_col2,#T_7b141_row0_col3,#T_7b141_row0_col4,#T_7b141_row1_col0,#T_7b141_row2_col0,#T_7b141_row3_col0,#T_7b141_row4_col0{\n",
       "            background-color:  orange;\n",
       "        }#T_7b141_row1_col2,#T_7b141_row1_col3,#T_7b141_row1_col4,#T_7b141_row2_col1,#T_7b141_row3_col1,#T_7b141_row4_col1{\n",
       "            background-color:  red;\n",
       "        }</style><table id=\"T_7b141_\" ><thead>    <tr>        <th class=\"blank level0\" ></th>        <th class=\"col_heading level0 col0\" >Ngu Van</th>        <th class=\"col_heading level0 col1\" >Ngoai Ngu</th>        <th class=\"col_heading level0 col2\" >Lich Su</th>        <th class=\"col_heading level0 col3\" >Dia Ly</th>        <th class=\"col_heading level0 col4\" >GDCD</th>    </tr></thead><tbody>\n",
       "                <tr>\n",
       "                        <th id=\"T_7b141_level0_row0\" class=\"row_heading level0 row0\" >Ngu Van</th>\n",
       "                        <td id=\"T_7b141_row0_col0\" class=\"data row0 col0\" >1.000000</td>\n",
       "                        <td id=\"T_7b141_row0_col1\" class=\"data row0 col1\" >0.412665</td>\n",
       "                        <td id=\"T_7b141_row0_col2\" class=\"data row0 col2\" >0.445274</td>\n",
       "                        <td id=\"T_7b141_row0_col3\" class=\"data row0 col3\" >0.494857</td>\n",
       "                        <td id=\"T_7b141_row0_col4\" class=\"data row0 col4\" >0.456214</td>\n",
       "            </tr>\n",
       "            <tr>\n",
       "                        <th id=\"T_7b141_level0_row1\" class=\"row_heading level0 row1\" >Ngoai Ngu</th>\n",
       "                        <td id=\"T_7b141_row1_col0\" class=\"data row1 col0\" >0.412665</td>\n",
       "                        <td id=\"T_7b141_row1_col1\" class=\"data row1 col1\" >1.000000</td>\n",
       "                        <td id=\"T_7b141_row1_col2\" class=\"data row1 col2\" >0.328869</td>\n",
       "                        <td id=\"T_7b141_row1_col3\" class=\"data row1 col3\" >0.344333</td>\n",
       "                        <td id=\"T_7b141_row1_col4\" class=\"data row1 col4\" >0.318517</td>\n",
       "            </tr>\n",
       "            <tr>\n",
       "                        <th id=\"T_7b141_level0_row2\" class=\"row_heading level0 row2\" >Lich Su</th>\n",
       "                        <td id=\"T_7b141_row2_col0\" class=\"data row2 col0\" >0.445274</td>\n",
       "                        <td id=\"T_7b141_row2_col1\" class=\"data row2 col1\" >0.328869</td>\n",
       "                        <td id=\"T_7b141_row2_col2\" class=\"data row2 col2\" >1.000000</td>\n",
       "                        <td id=\"T_7b141_row2_col3\" class=\"data row2 col3\" >0.601641</td>\n",
       "                        <td id=\"T_7b141_row2_col4\" class=\"data row2 col4\" >0.500582</td>\n",
       "            </tr>\n",
       "            <tr>\n",
       "                        <th id=\"T_7b141_level0_row3\" class=\"row_heading level0 row3\" >Dia Ly</th>\n",
       "                        <td id=\"T_7b141_row3_col0\" class=\"data row3 col0\" >0.494857</td>\n",
       "                        <td id=\"T_7b141_row3_col1\" class=\"data row3 col1\" >0.344333</td>\n",
       "                        <td id=\"T_7b141_row3_col2\" class=\"data row3 col2\" >0.601641</td>\n",
       "                        <td id=\"T_7b141_row3_col3\" class=\"data row3 col3\" >1.000000</td>\n",
       "                        <td id=\"T_7b141_row3_col4\" class=\"data row3 col4\" >0.583849</td>\n",
       "            </tr>\n",
       "            <tr>\n",
       "                        <th id=\"T_7b141_level0_row4\" class=\"row_heading level0 row4\" >GDCD</th>\n",
       "                        <td id=\"T_7b141_row4_col0\" class=\"data row4 col0\" >0.456214</td>\n",
       "                        <td id=\"T_7b141_row4_col1\" class=\"data row4 col1\" >0.318517</td>\n",
       "                        <td id=\"T_7b141_row4_col2\" class=\"data row4 col2\" >0.500582</td>\n",
       "                        <td id=\"T_7b141_row4_col3\" class=\"data row4 col3\" >0.583849</td>\n",
       "                        <td id=\"T_7b141_row4_col4\" class=\"data row4 col4\" >1.000000</td>\n",
       "            </tr>\n",
       "    </tbody></table>"
      ],
      "text/plain": [
       "<pandas.io.formats.style.Styler at 0x1f758b4bfd0>"
      ]
     },
     "execution_count": 22,
     "metadata": {},
     "output_type": "execute_result"
    }
   ],
   "source": [
    "def _color_red_or_green(val):\n",
    "    if val < 0.4:\n",
    "        color = 'red'\n",
    "    elif val < 0.5:\n",
    "        color = 'orange'\n",
    "    else:\n",
    "        color = 'green'\n",
    "    return 'background-color: %s' % color\n",
    "\n",
    "khxh_col = [\"Ngu Van\",\"Ngoai Ngu\",\"Lich Su\", \"Dia Ly\", \"GDCD\"]\n",
    "khxh_df = df[khxh_col]\n",
    "khxh_df.corr().style.applymap(_color_red_or_green)"
   ]
  },
  {
   "cell_type": "markdown",
   "id": "c15a37ec",
   "metadata": {},
   "source": [
    "#### Phân tích điểm thi nhóm môn Khoa học Tự nhiên"
   ]
  },
  {
   "cell_type": "code",
   "execution_count": 36,
   "id": "fddf3edb",
   "metadata": {},
   "outputs": [],
   "source": [
    "point_df = pd.read_csv('diemthi2019_update.csv') "
   ]
  },
  {
   "cell_type": "code",
   "execution_count": 37,
   "id": "c6be7825",
   "metadata": {},
   "outputs": [],
   "source": [
    "num_cols_point = point_df.shape[1]\n",
    "num_rows_point = point_df.shape[0]"
   ]
  },
  {
   "cell_type": "code",
   "execution_count": 44,
   "id": "bde50ab3",
   "metadata": {},
   "outputs": [
    {
     "data": {
      "image/png": "[encoded data removed]",
      "text/plain": [
       "<Figure size 432x288 with 1 Axes>"
      ]
     },
     "metadata": {
      "needs_background": "light"
     },
     "output_type": "display_data"
    }
   ],
   "source": [
    "th_series = point_df[\"Toan Hoc\"]\n",
    "th_series.plot.hist(bins=20)\n",
    "plt.axvline(x=th_series.mean(), color='r', label=\"trung bình\")\n",
    "plt.xticks(list(range(0, 11,2)) + [round(th_series.mean(),1)])\n",
    "plt.legend()\n",
    "plt.ylabel(\"Tần suất\")\n",
    "plt.xlabel(\"Điểm\")\n",
    "plt.title(\"Phân bố điểm thi môn Toán Học\")\n",
    "plt.show()"
   ]
  },
  {
   "cell_type": "code",
   "execution_count": 45,
   "id": "ac91e62a",
   "metadata": {},
   "outputs": [
    {
     "data": {
      "image/png": "[encoded data removed]",
      "text/plain": [
       "<Figure size 432x288 with 1 Axes>"
      ]
     },
     "metadata": {
      "needs_background": "light"
     },
     "output_type": "display_data"
    }
   ],
   "source": [
    "vl_series = point_df[\"Vat Ly\"]\n",
    "vl_series.plot.hist(bins=20)\n",
    "plt.xticks(list(range(0, 11,2)) + [round(vl_series.mean(),1)])\n",
    "plt.axvline(x=vl_series.mean(), color='r', label=\"trung bình\")\n",
    "plt.legend()\n",
    "plt.ylabel(\"Tần suất\")\n",
    "plt.xlabel(\"Điểm\")\n",
    "plt.title(\"Phân bố điểm thi môn Vật Lý\")\n",
    "plt.show()"
   ]
  },
  {
   "cell_type": "code",
   "execution_count": 47,
   "id": "ecfe9dcf",
   "metadata": {},
   "outputs": [
    {
     "data": {
      "image/png": "[encoded data removed]",
      "text/plain": [
       "<Figure size 432x288 with 1 Axes>"
      ]
     },
     "metadata": {
      "needs_background": "light"
     },
     "output_type": "display_data"
    }
   ],
   "source": [
    "hh_series = point_df[\"Hoa Hoc\"]\n",
    "hh_series.plot.hist(bins=20)\n",
    "plt.xticks(list(range(0, 11,2)) + [round(hh_series.mean(),1)])\n",
    "plt.axvline(x=hh_series.mean(), color='r', label=\"trung bình\")\n",
    "plt.legend()\n",
    "plt.ylabel(\"Tần suất\")\n",
    "plt.xlabel(\"Điểm\")\n",
    "plt.title(\"Phân bố điểm thi môn Hóa Học\")\n",
    "plt.show()"
   ]
  },
  {
   "cell_type": "code",
   "execution_count": 48,
   "id": "26fb64c0",
   "metadata": {},
   "outputs": [
    {
     "data": {
      "image/png": "[encoded data removed]",
      "text/plain": [
       "<Figure size 432x288 with 1 Axes>"
      ]
     },
     "metadata": {
      "needs_background": "light"
     },
     "output_type": "display_data"
    }
   ],
   "source": [
    "sh_series = point_df[\"Sinh Hoc\"]\n",
    "sh_series.plot.hist(bins=20)\n",
    "plt.xticks(list(range(0, 11,2)) + [round(sh_series.mean(),1)])\n",
    "plt.axvline(x=sh_series.mean(), color='r', label=\"trung bình\")\n",
    "plt.legend()\n",
    "plt.ylabel(\"Tần suất\")\n",
    "plt.xlabel(\"Điểm\")\n",
    "plt.title(\"Phân bố điểm thi môn Sinh Học\")\n",
    "plt.show()"
   ]
  },
  {
   "cell_type": "markdown",
   "id": "729a6d74",
   "metadata": {},
   "source": [
    "## Câu hỏi 1: phân loại học sinh theo giỏi toàn diện, lệch, trung bình, yếu \n",
    "\n",
    "lợi ích: cho thấy xu hướng chung thường thiên về một số môn hoặc theo hướng toàn diện.\n",
    "\n",
    "Từ đó, điều chỉnh lại cách giảng dạy"
   ]
  },
  {
   "cell_type": "code",
   "execution_count": 24,
   "id": "83b079a4",
   "metadata": {},
   "outputs": [],
   "source": [
    "point_df = point_df.set_index(\"SBD\")\n",
    "point_df[\"Toan Hoc\"] = point_df[\"Toan Hoc\"].replace(np.nan, 0)\n",
    "point_df[\"Ngu Van\"] = point_df[\"Ngu Van\"].replace(np.nan, 0)\n",
    "point_df[\"Ngoai Ngu\"] = point_df[\"Ngoai Ngu\"].replace(np.nan, 0)"
   ]
  },
  {
   "cell_type": "code",
   "execution_count": 25,
   "id": "614de4de",
   "metadata": {},
   "outputs": [],
   "source": [
    "score_df = point_df.drop(columns = [\"Ma Ngoai Ngu\", \"Unnamed: 0\"]).copy()"
   ]
  },
  {
   "cell_type": "markdown",
   "id": "b73c9203",
   "metadata": {},
   "source": [
    "quy định rằng : \n",
    "- giỏi toàn diện: tổng điểm >= 7*số môn thi và điểm max và min cách biệt < 2\n",
    "- lệch: tổng điểm >= số môn thi * 1 cách biệt giữa điểm max và min >= 2\n",
    "- trung bình: tổng điểm >= 4*số môn thi và điểm max và min cách nhau nhỏ hơn 2 điểm\n",
    "- yếu: còn lại"
   ]
  },
  {
   "cell_type": "code",
   "execution_count": 26,
   "id": "5218c70b",
   "metadata": {},
   "outputs": [],
   "source": [
    "sum_score = score_df.sum(axis=1) + 0.05\n",
    "chenh_lech = score_df.max(axis=1) - score_df.min(axis=1) \n",
    "so_mon_thi = score_df.notnull().sum(axis=1)\n",
    "score_df.loc[(sum_score >= 4*so_mon_thi) & (chenh_lech < 2), \"Phan loai\"] = \"Trung Binh\"\n",
    "score_df.loc[(sum_score >= 7*so_mon_thi) & (chenh_lech < 2), \"Phan loai\"] = \"Gioi Toan Dien\"\n",
    "score_df.loc[(sum_score >= so_mon_thi) & (chenh_lech >= 2), \"Phan loai\"] = \"Lech\"\n",
    "score_df.loc[score_df[\"Phan loai\"].isnull(), \"Phan loai\"] = \"Yeu\""
   ]
  },
  {
   "cell_type": "code",
   "execution_count": 27,
   "id": "048474f0",
   "metadata": {},
   "outputs": [
    {
     "data": {
      "text/html": [
       "<div>\n",
       "<style scoped>\n",
       "    .dataframe tbody tr th:only-of-type {\n",
       "        vertical-align: middle;\n",
       "    }\n",
       "\n",
       "    .dataframe tbody tr th {\n",
       "        vertical-align: top;\n",
       "    }\n",
       "\n",
       "    .dataframe thead th {\n",
       "        text-align: right;\n",
       "    }\n",
       "</style>\n",
       "<table border=\"1\" class=\"dataframe\">\n",
       "  <thead>\n",
       "    <tr style=\"text-align: right;\">\n",
       "      <th></th>\n",
       "      <th>Ngu Van</th>\n",
       "      <th>Toan Hoc</th>\n",
       "      <th>Ngoai Ngu</th>\n",
       "      <th>Vat Ly</th>\n",
       "      <th>Hoa Hoc</th>\n",
       "      <th>Sinh Hoc</th>\n",
       "      <th>Lich Su</th>\n",
       "      <th>Dia Ly</th>\n",
       "      <th>GDCD</th>\n",
       "      <th>Phan loai</th>\n",
       "      <th>Max diem</th>\n",
       "      <th>Min diem</th>\n",
       "    </tr>\n",
       "    <tr>\n",
       "      <th>SBD</th>\n",
       "      <th></th>\n",
       "      <th></th>\n",
       "      <th></th>\n",
       "      <th></th>\n",
       "      <th></th>\n",
       "      <th></th>\n",
       "      <th></th>\n",
       "      <th></th>\n",
       "      <th></th>\n",
       "      <th></th>\n",
       "      <th></th>\n",
       "      <th></th>\n",
       "    </tr>\n",
       "  </thead>\n",
       "  <tbody>\n",
       "    <tr>\n",
       "      <th>24008611</th>\n",
       "      <td>8.00</td>\n",
       "      <td>8.2</td>\n",
       "      <td>7.6</td>\n",
       "      <td>NaN</td>\n",
       "      <td>NaN</td>\n",
       "      <td>NaN</td>\n",
       "      <td>8.25</td>\n",
       "      <td>7.75</td>\n",
       "      <td>8.75</td>\n",
       "      <td>Gioi Toan Dien</td>\n",
       "      <td>GDCD</td>\n",
       "      <td>Ngoai Ngu</td>\n",
       "    </tr>\n",
       "    <tr>\n",
       "      <th>51000032</th>\n",
       "      <td>6.17</td>\n",
       "      <td>8.6</td>\n",
       "      <td>8.0</td>\n",
       "      <td>8.25</td>\n",
       "      <td>4.5</td>\n",
       "      <td>6.00</td>\n",
       "      <td>NaN</td>\n",
       "      <td>NaN</td>\n",
       "      <td>NaN</td>\n",
       "      <td>Lech</td>\n",
       "      <td>Toan Hoc</td>\n",
       "      <td>Hoa Hoc</td>\n",
       "    </tr>\n",
       "    <tr>\n",
       "      <th>51000005</th>\n",
       "      <td>4.75</td>\n",
       "      <td>5.2</td>\n",
       "      <td>0.0</td>\n",
       "      <td>NaN</td>\n",
       "      <td>NaN</td>\n",
       "      <td>NaN</td>\n",
       "      <td>4.00</td>\n",
       "      <td>4.25</td>\n",
       "      <td>5.75</td>\n",
       "      <td>Lech</td>\n",
       "      <td>GDCD</td>\n",
       "      <td>Ngoai Ngu</td>\n",
       "    </tr>\n",
       "    <tr>\n",
       "      <th>51000021</th>\n",
       "      <td>4.50</td>\n",
       "      <td>4.4</td>\n",
       "      <td>0.0</td>\n",
       "      <td>NaN</td>\n",
       "      <td>NaN</td>\n",
       "      <td>NaN</td>\n",
       "      <td>2.25</td>\n",
       "      <td>4.75</td>\n",
       "      <td>5.00</td>\n",
       "      <td>Lech</td>\n",
       "      <td>GDCD</td>\n",
       "      <td>Ngoai Ngu</td>\n",
       "    </tr>\n",
       "    <tr>\n",
       "      <th>51000013</th>\n",
       "      <td>6.00</td>\n",
       "      <td>5.8</td>\n",
       "      <td>4.4</td>\n",
       "      <td>NaN</td>\n",
       "      <td>NaN</td>\n",
       "      <td>NaN</td>\n",
       "      <td>7.75</td>\n",
       "      <td>8.25</td>\n",
       "      <td>7.50</td>\n",
       "      <td>Lech</td>\n",
       "      <td>Dia Ly</td>\n",
       "      <td>Ngoai Ngu</td>\n",
       "    </tr>\n",
       "    <tr>\n",
       "      <th>...</th>\n",
       "      <td>...</td>\n",
       "      <td>...</td>\n",
       "      <td>...</td>\n",
       "      <td>...</td>\n",
       "      <td>...</td>\n",
       "      <td>...</td>\n",
       "      <td>...</td>\n",
       "      <td>...</td>\n",
       "      <td>...</td>\n",
       "      <td>...</td>\n",
       "      <td>...</td>\n",
       "      <td>...</td>\n",
       "    </tr>\n",
       "    <tr>\n",
       "      <th>26019104</th>\n",
       "      <td>4.75</td>\n",
       "      <td>4.4</td>\n",
       "      <td>3.4</td>\n",
       "      <td>NaN</td>\n",
       "      <td>NaN</td>\n",
       "      <td>NaN</td>\n",
       "      <td>4.50</td>\n",
       "      <td>5.75</td>\n",
       "      <td>8.50</td>\n",
       "      <td>Lech</td>\n",
       "      <td>GDCD</td>\n",
       "      <td>Ngoai Ngu</td>\n",
       "    </tr>\n",
       "    <tr>\n",
       "      <th>26019102</th>\n",
       "      <td>6.25</td>\n",
       "      <td>5.2</td>\n",
       "      <td>4.4</td>\n",
       "      <td>3.75</td>\n",
       "      <td>4.5</td>\n",
       "      <td>4.00</td>\n",
       "      <td>NaN</td>\n",
       "      <td>NaN</td>\n",
       "      <td>NaN</td>\n",
       "      <td>Lech</td>\n",
       "      <td>Ngu Van</td>\n",
       "      <td>Vat Ly</td>\n",
       "    </tr>\n",
       "    <tr>\n",
       "      <th>26019099</th>\n",
       "      <td>5.00</td>\n",
       "      <td>2.8</td>\n",
       "      <td>2.8</td>\n",
       "      <td>NaN</td>\n",
       "      <td>NaN</td>\n",
       "      <td>NaN</td>\n",
       "      <td>5.50</td>\n",
       "      <td>5.50</td>\n",
       "      <td>8.00</td>\n",
       "      <td>Lech</td>\n",
       "      <td>GDCD</td>\n",
       "      <td>Toan Hoc</td>\n",
       "    </tr>\n",
       "    <tr>\n",
       "      <th>26019101</th>\n",
       "      <td>7.25</td>\n",
       "      <td>6.2</td>\n",
       "      <td>4.0</td>\n",
       "      <td>NaN</td>\n",
       "      <td>NaN</td>\n",
       "      <td>NaN</td>\n",
       "      <td>3.50</td>\n",
       "      <td>6.75</td>\n",
       "      <td>8.50</td>\n",
       "      <td>Lech</td>\n",
       "      <td>GDCD</td>\n",
       "      <td>Lich Su</td>\n",
       "    </tr>\n",
       "    <tr>\n",
       "      <th>26019097</th>\n",
       "      <td>5.75</td>\n",
       "      <td>6.4</td>\n",
       "      <td>2.2</td>\n",
       "      <td>5.25</td>\n",
       "      <td>4.5</td>\n",
       "      <td>3.75</td>\n",
       "      <td>NaN</td>\n",
       "      <td>NaN</td>\n",
       "      <td>NaN</td>\n",
       "      <td>Lech</td>\n",
       "      <td>Toan Hoc</td>\n",
       "      <td>Ngoai Ngu</td>\n",
       "    </tr>\n",
       "  </tbody>\n",
       "</table>\n",
       "<p>811851 rows × 12 columns</p>\n",
       "</div>"
      ],
      "text/plain": [
       "          Ngu Van  Toan Hoc  Ngoai Ngu  Vat Ly  Hoa Hoc  Sinh Hoc  Lich Su  \\\n",
       "SBD                                                                          \n",
       "24008611     8.00       8.2        7.6     NaN      NaN       NaN     8.25   \n",
       "51000032     6.17       8.6        8.0    8.25      4.5      6.00      NaN   \n",
       "51000005     4.75       5.2        0.0     NaN      NaN       NaN     4.00   \n",
       "51000021     4.50       4.4        0.0     NaN      NaN       NaN     2.25   \n",
       "51000013     6.00       5.8        4.4     NaN      NaN       NaN     7.75   \n",
       "...           ...       ...        ...     ...      ...       ...      ...   \n",
       "26019104     4.75       4.4        3.4     NaN      NaN       NaN     4.50   \n",
       "26019102     6.25       5.2        4.4    3.75      4.5      4.00      NaN   \n",
       "26019099     5.00       2.8        2.8     NaN      NaN       NaN     5.50   \n",
       "26019101     7.25       6.2        4.0     NaN      NaN       NaN     3.50   \n",
       "26019097     5.75       6.4        2.2    5.25      4.5      3.75      NaN   \n",
       "\n",
       "          Dia Ly  GDCD       Phan loai  Max diem   Min diem  \n",
       "SBD                                                          \n",
       "24008611    7.75  8.75  Gioi Toan Dien      GDCD  Ngoai Ngu  \n",
       "51000032     NaN   NaN            Lech  Toan Hoc    Hoa Hoc  \n",
       "51000005    4.25  5.75            Lech      GDCD  Ngoai Ngu  \n",
       "51000021    4.75  5.00            Lech      GDCD  Ngoai Ngu  \n",
       "51000013    8.25  7.50            Lech    Dia Ly  Ngoai Ngu  \n",
       "...          ...   ...             ...       ...        ...  \n",
       "26019104    5.75  8.50            Lech      GDCD  Ngoai Ngu  \n",
       "26019102     NaN   NaN            Lech   Ngu Van     Vat Ly  \n",
       "26019099    5.50  8.00            Lech      GDCD   Toan Hoc  \n",
       "26019101    6.75  8.50            Lech      GDCD    Lich Su  \n",
       "26019097     NaN   NaN            Lech  Toan Hoc  Ngoai Ngu  \n",
       "\n",
       "[811851 rows x 12 columns]"
      ]
     },
     "execution_count": 27,
     "metadata": {},
     "output_type": "execute_result"
    }
   ],
   "source": [
    "score_df[\"Max diem\"] = score_df.drop(columns = [\"Phan loai\"]).idxmax(axis = 1)\n",
    "score_df[\"Min diem\"] = score_df.drop(columns = [\"Phan loai\", \"Max diem\"]).idxmin(axis = 1)\n",
    "score_df"
   ]
  },
  {
   "cell_type": "markdown",
   "id": "85058d13",
   "metadata": {},
   "source": [
    "ta thấy tỉ lệ các học sinh học lệch là lớn nhất (khoảng 97%) còn học sinh Yeu, Trung binh và Gioi toan dien lần lượt là 4%, 2.2% và 0.34%. Như vậy, phần lớn các học sinh thường thiên về một số môn nhất định hơn là học dàn đều các môn"
   ]
  },
  {
   "cell_type": "code",
   "execution_count": 28,
   "id": "df3a0cce",
   "metadata": {},
   "outputs": [
    {
     "data": {
      "image/png": "[encoded data removed]",
      "text/plain": [
       "<Figure size 576x576 with 1 Axes>"
      ]
     },
     "metadata": {},
     "output_type": "display_data"
    }
   ],
   "source": [
    "score_df[\"Phan loai\"].value_counts().plot.pie(figsize=(8, 8), autopct=lambda x: str(round(x, 2)) + \"%\")\n",
    "plt.title(\"tỉ lệ các loại hoc sinh\")\n",
    "plt.show()"
   ]
  },
  {
   "cell_type": "code",
   "execution_count": 29,
   "id": "54c2fb7f",
   "metadata": {},
   "outputs": [
    {
     "data": {
      "text/plain": [
       "Lech              786454\n",
       "Trung Binh         17504\n",
       "Yeu                 4657\n",
       "Gioi Toan Dien      3236\n",
       "Name: Phan loai, dtype: int64"
      ]
     },
     "execution_count": 29,
     "metadata": {},
     "output_type": "execute_result"
    }
   ],
   "source": [
    "score_df[\"Phan loai\"].value_counts()"
   ]
  },
  {
   "cell_type": "code",
   "execution_count": 30,
   "id": "4975a788",
   "metadata": {},
   "outputs": [
    {
     "data": {
      "text/plain": [
       "GDCD         347197\n",
       "Toan Hoc     177220\n",
       "Dia Ly        94444\n",
       "Ngu Van       75476\n",
       "Ngoai Ngu     34234\n",
       "Vat Ly        21292\n",
       "Hoa Hoc       16266\n",
       "Lich Su       13326\n",
       "Sinh Hoc       6999\n",
       "Name: Max diem, dtype: int64"
      ]
     },
     "execution_count": 30,
     "metadata": {},
     "output_type": "execute_result"
    }
   ],
   "source": [
    "score_df.loc[score_df[\"Phan loai\"] == \"Lech\", \"Max diem\"].value_counts()"
   ]
  },
  {
   "cell_type": "code",
   "execution_count": 31,
   "id": "d71efc56",
   "metadata": {},
   "outputs": [
    {
     "data": {
      "text/plain": [
       "Ngoai Ngu    412016\n",
       "Lich Su      131239\n",
       "Sinh Hoc      69858\n",
       "Ngu Van       51184\n",
       "Toan Hoc      50498\n",
       "Hoa Hoc       38589\n",
       "Vat Ly        30103\n",
       "Dia Ly         2769\n",
       "GDCD            198\n",
       "Name: Min diem, dtype: int64"
      ]
     },
     "execution_count": 31,
     "metadata": {},
     "output_type": "execute_result"
    }
   ],
   "source": [
    "score_df.loc[score_df[\"Phan loai\"] == \"Lech\", \"Min diem\"].value_counts()"
   ]
  },
  {
   "cell_type": "code",
   "execution_count": 32,
   "id": "3773a62b",
   "metadata": {},
   "outputs": [
    {
     "data": {
      "image/png": "[encoded data removed]",
      "text/plain": [
       "<Figure size 576x576 with 1 Axes>"
      ]
     },
     "metadata": {},
     "output_type": "display_data"
    }
   ],
   "source": [
    "score_df.loc[score_df[\"Phan loai\"] == \"Lech\", \"Max diem\"].value_counts().plot.pie(figsize=(8,8), autopct=lambda x: str(round(x, 2)) + \"%\")\n",
    "plt.title(\"tỷ lệ các môn bị lệch có điểm cao nhất\")\n",
    "plt.show()"
   ]
  },
  {
   "cell_type": "code",
   "execution_count": 33,
   "id": "7a9f858d",
   "metadata": {},
   "outputs": [
    {
     "data": {
      "image/png": "[encoded data removed]",
      "text/plain": [
       "<Figure size 576x576 with 1 Axes>"
      ]
     },
     "metadata": {},
     "output_type": "display_data"
    }
   ],
   "source": [
    "score_df.loc[score_df[\"Phan loai\"] == \"Lech\", \"Min diem\"].value_counts().plot.pie(figsize=(8,8), autopct=lambda x: str(round(x, 2)) + \"%\")\n",
    "plt.title(\"tỷ lệ các môn bị lệch có điểm thấp\")\n",
    "plt.show()"
   ]
  },
  {
   "cell_type": "markdown",
   "id": "700941ee",
   "metadata": {},
   "source": [
    "- Như ở trên, ta thấy các môn mà học sinh thường tập trung thì GDCD, Toán, Địa, Văn là những môn có nhiều điểm cao nhất, khác biệt rõ so với phần còn lai. Là do môn đó quá dễ hoặc là học sinh đã có chuẩn bị ?\n",
    "- và trong số các môn có nhiều điểm thấp nhất là Ngoại ngữ, 1 trong 3 môn bắt buộc. Như vậy, có thể nói môn có độ khó cao hoặc là các thí sinh không tập trung chuẩn bị vào môn này."
   ]
  },
  {
   "cell_type": "markdown",
   "id": "6d272eed",
   "metadata": {},
   "source": [
    "## Câu hỏi 2: Tỷ lệ rớt tốt nghiệp năm 2019 dựa trên điểm liệt\n",
    "\n",
    "Lợi ích: Phân tích nguyên nhân rớt tốt nghiệp từ đó củng cố các giảng dạy\n",
    "\n",
    "Bộ giáo dục quy định một bài dưới 1 điểm cũng đồng nghĩa với việc học sinh đó đã rớt tốt nghiệp."
   ]
  },
  {
   "cell_type": "code",
   "execution_count": 34,
   "id": "59b1e251",
   "metadata": {},
   "outputs": [],
   "source": [
    "score_df = df.drop(columns=\"Ma Ngoai Ngu\")\n",
    "grad_df = score_df.copy()\n",
    "grad_df[\"Tot Nghiep\"] = ~(np.any((score_df <= 1.0) & (score_df != np.nan), axis=1) | np.any(score_df[[\"Toan Hoc\", \"Ngoai Ngu\", \"Ngu Van\"]].isnull(), axis=1))\n",
    "grad_df[\"So Mon Liet\"] = np.sum(((score_df <= 1.0) & (score_df != np.nan)), axis=1) + np.sum(score_df[[\"Toan Hoc\", \"Ngoai Ngu\", \"Ngu Van\"]].isnull(), axis=1)"
   ]
  },
  {
   "cell_type": "code",
   "execution_count": 35,
   "id": "f8267c43",
   "metadata": {},
   "outputs": [
    {
     "data": {
      "text/html": [
       "<div>\n",
       "<style scoped>\n",
       "    .dataframe tbody tr th:only-of-type {\n",
       "        vertical-align: middle;\n",
       "    }\n",
       "\n",
       "    .dataframe tbody tr th {\n",
       "        vertical-align: top;\n",
       "    }\n",
       "\n",
       "    .dataframe thead th {\n",
       "        text-align: right;\n",
       "    }\n",
       "</style>\n",
       "<table border=\"1\" class=\"dataframe\">\n",
       "  <thead>\n",
       "    <tr style=\"text-align: right;\">\n",
       "      <th></th>\n",
       "      <th>Ngu Van</th>\n",
       "      <th>Toan Hoc</th>\n",
       "      <th>Ngoai Ngu</th>\n",
       "      <th>Vat Ly</th>\n",
       "      <th>Hoa Hoc</th>\n",
       "      <th>Sinh Hoc</th>\n",
       "      <th>Lich Su</th>\n",
       "      <th>Dia Ly</th>\n",
       "      <th>GDCD</th>\n",
       "      <th>Tot Nghiep</th>\n",
       "      <th>So Mon Liet</th>\n",
       "    </tr>\n",
       "    <tr>\n",
       "      <th>SBD</th>\n",
       "      <th></th>\n",
       "      <th></th>\n",
       "      <th></th>\n",
       "      <th></th>\n",
       "      <th></th>\n",
       "      <th></th>\n",
       "      <th></th>\n",
       "      <th></th>\n",
       "      <th></th>\n",
       "      <th></th>\n",
       "      <th></th>\n",
       "    </tr>\n",
       "  </thead>\n",
       "  <tbody>\n",
       "    <tr>\n",
       "      <th>51000005</th>\n",
       "      <td>4.75</td>\n",
       "      <td>5.2</td>\n",
       "      <td>NaN</td>\n",
       "      <td>NaN</td>\n",
       "      <td>NaN</td>\n",
       "      <td>NaN</td>\n",
       "      <td>4.00</td>\n",
       "      <td>4.25</td>\n",
       "      <td>5.75</td>\n",
       "      <td>False</td>\n",
       "      <td>1</td>\n",
       "    </tr>\n",
       "    <tr>\n",
       "      <th>51000021</th>\n",
       "      <td>4.50</td>\n",
       "      <td>4.4</td>\n",
       "      <td>NaN</td>\n",
       "      <td>NaN</td>\n",
       "      <td>NaN</td>\n",
       "      <td>NaN</td>\n",
       "      <td>2.25</td>\n",
       "      <td>4.75</td>\n",
       "      <td>5.00</td>\n",
       "      <td>False</td>\n",
       "      <td>1</td>\n",
       "    </tr>\n",
       "    <tr>\n",
       "      <th>51000001</th>\n",
       "      <td>5.75</td>\n",
       "      <td>2.2</td>\n",
       "      <td>NaN</td>\n",
       "      <td>NaN</td>\n",
       "      <td>NaN</td>\n",
       "      <td>NaN</td>\n",
       "      <td>3.25</td>\n",
       "      <td>NaN</td>\n",
       "      <td>NaN</td>\n",
       "      <td>False</td>\n",
       "      <td>1</td>\n",
       "    </tr>\n",
       "    <tr>\n",
       "      <th>51000020</th>\n",
       "      <td>5.00</td>\n",
       "      <td>5.8</td>\n",
       "      <td>NaN</td>\n",
       "      <td>NaN</td>\n",
       "      <td>NaN</td>\n",
       "      <td>NaN</td>\n",
       "      <td>5.00</td>\n",
       "      <td>NaN</td>\n",
       "      <td>NaN</td>\n",
       "      <td>False</td>\n",
       "      <td>1</td>\n",
       "    </tr>\n",
       "    <tr>\n",
       "      <th>51000042</th>\n",
       "      <td>4.25</td>\n",
       "      <td>NaN</td>\n",
       "      <td>NaN</td>\n",
       "      <td>NaN</td>\n",
       "      <td>NaN</td>\n",
       "      <td>NaN</td>\n",
       "      <td>3.25</td>\n",
       "      <td>7.50</td>\n",
       "      <td>NaN</td>\n",
       "      <td>False</td>\n",
       "      <td>2</td>\n",
       "    </tr>\n",
       "    <tr>\n",
       "      <th>...</th>\n",
       "      <td>...</td>\n",
       "      <td>...</td>\n",
       "      <td>...</td>\n",
       "      <td>...</td>\n",
       "      <td>...</td>\n",
       "      <td>...</td>\n",
       "      <td>...</td>\n",
       "      <td>...</td>\n",
       "      <td>...</td>\n",
       "      <td>...</td>\n",
       "      <td>...</td>\n",
       "    </tr>\n",
       "    <tr>\n",
       "      <th>26018826</th>\n",
       "      <td>3.00</td>\n",
       "      <td>4.2</td>\n",
       "      <td>1.0</td>\n",
       "      <td>NaN</td>\n",
       "      <td>NaN</td>\n",
       "      <td>NaN</td>\n",
       "      <td>4.25</td>\n",
       "      <td>4.00</td>\n",
       "      <td>7.25</td>\n",
       "      <td>False</td>\n",
       "      <td>1</td>\n",
       "    </tr>\n",
       "    <tr>\n",
       "      <th>26018880</th>\n",
       "      <td>NaN</td>\n",
       "      <td>5.8</td>\n",
       "      <td>3.6</td>\n",
       "      <td>NaN</td>\n",
       "      <td>NaN</td>\n",
       "      <td>NaN</td>\n",
       "      <td>4.75</td>\n",
       "      <td>7.25</td>\n",
       "      <td>9.25</td>\n",
       "      <td>False</td>\n",
       "      <td>1</td>\n",
       "    </tr>\n",
       "    <tr>\n",
       "      <th>26018937</th>\n",
       "      <td>6.50</td>\n",
       "      <td>5.8</td>\n",
       "      <td>4.0</td>\n",
       "      <td>1.00</td>\n",
       "      <td>3.5</td>\n",
       "      <td>3.25</td>\n",
       "      <td>NaN</td>\n",
       "      <td>NaN</td>\n",
       "      <td>NaN</td>\n",
       "      <td>False</td>\n",
       "      <td>1</td>\n",
       "    </tr>\n",
       "    <tr>\n",
       "      <th>26018935</th>\n",
       "      <td>4.00</td>\n",
       "      <td>3.8</td>\n",
       "      <td>3.2</td>\n",
       "      <td>0.75</td>\n",
       "      <td>3.5</td>\n",
       "      <td>4.00</td>\n",
       "      <td>NaN</td>\n",
       "      <td>NaN</td>\n",
       "      <td>NaN</td>\n",
       "      <td>False</td>\n",
       "      <td>1</td>\n",
       "    </tr>\n",
       "    <tr>\n",
       "      <th>26019022</th>\n",
       "      <td>5.00</td>\n",
       "      <td>5.0</td>\n",
       "      <td>1.0</td>\n",
       "      <td>NaN</td>\n",
       "      <td>NaN</td>\n",
       "      <td>NaN</td>\n",
       "      <td>2.75</td>\n",
       "      <td>5.50</td>\n",
       "      <td>6.00</td>\n",
       "      <td>False</td>\n",
       "      <td>1</td>\n",
       "    </tr>\n",
       "  </tbody>\n",
       "</table>\n",
       "<p>87900 rows × 11 columns</p>\n",
       "</div>"
      ],
      "text/plain": [
       "          Ngu Van  Toan Hoc  Ngoai Ngu  Vat Ly  Hoa Hoc  Sinh Hoc  Lich Su  \\\n",
       "SBD                                                                          \n",
       "51000005     4.75       5.2        NaN     NaN      NaN       NaN     4.00   \n",
       "51000021     4.50       4.4        NaN     NaN      NaN       NaN     2.25   \n",
       "51000001     5.75       2.2        NaN     NaN      NaN       NaN     3.25   \n",
       "51000020     5.00       5.8        NaN     NaN      NaN       NaN     5.00   \n",
       "51000042     4.25       NaN        NaN     NaN      NaN       NaN     3.25   \n",
       "...           ...       ...        ...     ...      ...       ...      ...   \n",
       "26018826     3.00       4.2        1.0     NaN      NaN       NaN     4.25   \n",
       "26018880      NaN       5.8        3.6     NaN      NaN       NaN     4.75   \n",
       "26018937     6.50       5.8        4.0    1.00      3.5      3.25      NaN   \n",
       "26018935     4.00       3.8        3.2    0.75      3.5      4.00      NaN   \n",
       "26019022     5.00       5.0        1.0     NaN      NaN       NaN     2.75   \n",
       "\n",
       "          Dia Ly  GDCD  Tot Nghiep  So Mon Liet  \n",
       "SBD                                              \n",
       "51000005    4.25  5.75       False            1  \n",
       "51000021    4.75  5.00       False            1  \n",
       "51000001     NaN   NaN       False            1  \n",
       "51000020     NaN   NaN       False            1  \n",
       "51000042    7.50   NaN       False            2  \n",
       "...          ...   ...         ...          ...  \n",
       "26018826    4.00  7.25       False            1  \n",
       "26018880    7.25  9.25       False            1  \n",
       "26018937     NaN   NaN       False            1  \n",
       "26018935     NaN   NaN       False            1  \n",
       "26019022    5.50  6.00       False            1  \n",
       "\n",
       "[87900 rows x 11 columns]"
      ]
     },
     "execution_count": 35,
     "metadata": {},
     "output_type": "execute_result"
    }
   ],
   "source": [
    "grad_df[grad_df[\"Tot Nghiep\"] == False]"
   ]
  },
  {
   "cell_type": "markdown",
   "id": "e49b18bc",
   "metadata": {},
   "source": [
    "Ta có thể thấy tỉ lệ rớt tốt nghiệp do điểm liệt của năm 2019 là khoảng 11%. Trong đó, liệt do 1 môn chiếm 82% còn liệt do 2 môn chiếm 17%"
   ]
  },
  {
   "cell_type": "code",
   "execution_count": 36,
   "id": "5bfdbf19",
   "metadata": {},
   "outputs": [
    {
     "data": {
      "image/png": "[encoded data removed]",
      "text/plain": [
       "<Figure size 576x576 with 1 Axes>"
      ]
     },
     "metadata": {},
     "output_type": "display_data"
    }
   ],
   "source": [
    "grad_df[\"Tot Nghiep\"].value_counts().plot.pie(figsize=(8, 8), autopct=lambda x: str(round(x, 2)) + \"%\")\n",
    "plt.title(\"Tỷ lệ rớt tốt nghiệp do điểm liệt\")\n",
    "plt.show()"
   ]
  },
  {
   "cell_type": "markdown",
   "id": "ad8539b3",
   "metadata": {},
   "source": [
    "Ta có thể xem chi tiết về số lượng các môn bị điểm liệt, có vẻ như số lượng học sinh bị một hoặc hai môn điểm liệt chiếm đa số. Ta hãy thử dùng pie chart để biểu diễn trực quan hơn tỷ lệ này"
   ]
  },
  {
   "cell_type": "code",
   "execution_count": 37,
   "id": "6a4995fc",
   "metadata": {},
   "outputs": [
    {
     "data": {
      "text/plain": [
       "0    723951\n",
       "1     72562\n",
       "2     14872\n",
       "3       257\n",
       "5        99\n",
       "6        62\n",
       "4        46\n",
       "8         2\n",
       "Name: So Mon Liet, dtype: int64"
      ]
     },
     "execution_count": 37,
     "metadata": {},
     "output_type": "execute_result"
    }
   ],
   "source": [
    "grad_df[\"So Mon Liet\"].value_counts()"
   ]
  },
  {
   "cell_type": "code",
   "execution_count": 38,
   "id": "098ef792",
   "metadata": {},
   "outputs": [
    {
     "data": {
      "image/png": "[encoded data removed]",
      "text/plain": [
       "<Figure size 576x576 with 1 Axes>"
      ]
     },
     "metadata": {},
     "output_type": "display_data"
    }
   ],
   "source": [
    "grad_df[\"So Mon Liet\"].value_counts()[1:].plot.pie(figsize=(8,8), autopct=lambda x: str(round(x, 2)) + \"%\")\n",
    "plt.title(\"Tỷ lệ số môn bị điểm liệt\")\n",
    "plt.show()"
   ]
  },
  {
   "cell_type": "markdown",
   "id": "2c0691f7",
   "metadata": {},
   "source": [
    "Có riêng 2 trường hợp là liệt 8 môn, khi xem xét thử, có vẻ như đây là 2 trường hợp bỏ thi"
   ]
  },
  {
   "cell_type": "code",
   "execution_count": 39,
   "id": "99436abb",
   "metadata": {},
   "outputs": [
    {
     "data": {
      "text/html": [
       "<div>\n",
       "<style scoped>\n",
       "    .dataframe tbody tr th:only-of-type {\n",
       "        vertical-align: middle;\n",
       "    }\n",
       "\n",
       "    .dataframe tbody tr th {\n",
       "        vertical-align: top;\n",
       "    }\n",
       "\n",
       "    .dataframe thead th {\n",
       "        text-align: right;\n",
       "    }\n",
       "</style>\n",
       "<table border=\"1\" class=\"dataframe\">\n",
       "  <thead>\n",
       "    <tr style=\"text-align: right;\">\n",
       "      <th></th>\n",
       "      <th>Ngu Van</th>\n",
       "      <th>Toan Hoc</th>\n",
       "      <th>Ngoai Ngu</th>\n",
       "      <th>Vat Ly</th>\n",
       "      <th>Hoa Hoc</th>\n",
       "      <th>Sinh Hoc</th>\n",
       "      <th>Lich Su</th>\n",
       "      <th>Dia Ly</th>\n",
       "      <th>GDCD</th>\n",
       "      <th>Tot Nghiep</th>\n",
       "      <th>So Mon Liet</th>\n",
       "    </tr>\n",
       "    <tr>\n",
       "      <th>SBD</th>\n",
       "      <th></th>\n",
       "      <th></th>\n",
       "      <th></th>\n",
       "      <th></th>\n",
       "      <th></th>\n",
       "      <th></th>\n",
       "      <th></th>\n",
       "      <th></th>\n",
       "      <th></th>\n",
       "      <th></th>\n",
       "      <th></th>\n",
       "    </tr>\n",
       "  </thead>\n",
       "  <tbody>\n",
       "    <tr>\n",
       "      <th>63001230</th>\n",
       "      <td>NaN</td>\n",
       "      <td>0.0</td>\n",
       "      <td>NaN</td>\n",
       "      <td>0.0</td>\n",
       "      <td>0.0</td>\n",
       "      <td>0.0</td>\n",
       "      <td>0.0</td>\n",
       "      <td>0.0</td>\n",
       "      <td>NaN</td>\n",
       "      <td>False</td>\n",
       "      <td>8</td>\n",
       "    </tr>\n",
       "    <tr>\n",
       "      <th>63001320</th>\n",
       "      <td>NaN</td>\n",
       "      <td>0.0</td>\n",
       "      <td>NaN</td>\n",
       "      <td>0.0</td>\n",
       "      <td>0.0</td>\n",
       "      <td>0.0</td>\n",
       "      <td>0.0</td>\n",
       "      <td>0.0</td>\n",
       "      <td>NaN</td>\n",
       "      <td>False</td>\n",
       "      <td>8</td>\n",
       "    </tr>\n",
       "  </tbody>\n",
       "</table>\n",
       "</div>"
      ],
      "text/plain": [
       "          Ngu Van  Toan Hoc  Ngoai Ngu  Vat Ly  Hoa Hoc  Sinh Hoc  Lich Su  \\\n",
       "SBD                                                                          \n",
       "63001230      NaN       0.0        NaN     0.0      0.0       0.0      0.0   \n",
       "63001320      NaN       0.0        NaN     0.0      0.0       0.0      0.0   \n",
       "\n",
       "          Dia Ly  GDCD  Tot Nghiep  So Mon Liet  \n",
       "SBD                                              \n",
       "63001230     0.0   NaN       False            8  \n",
       "63001320     0.0   NaN       False            8  "
      ]
     },
     "execution_count": 39,
     "metadata": {},
     "output_type": "execute_result"
    }
   ],
   "source": [
    "grad_df[grad_df[\"So Mon Liet\"] == 8]"
   ]
  },
  {
   "cell_type": "markdown",
   "id": "150cb0a8",
   "metadata": {},
   "source": [
    "## Phân tích năng lực học sinh rớt tốt nghiệp\n",
    "\n",
    "Do Toán, Văn, Ngoại Ngữ là 3 môn bắt buộc khi thi tốt nghiệp THPT. Đạt điểm liệt trong những môn này phần nào loại bỏ tính ngẫu nhiên trong trong kết quả và phản ánh năng lực của học sinh và của đề bài. Nếu học sinh đạt điểm liệt ở một trong 3 môn nhưng lại đạt trên trung bình các môn khác, có thể nói môn đó có độ khó cao. Ngược lại, ta có thể nói học sinh đó chưa chuẩn bị tốt"
   ]
  },
  {
   "cell_type": "markdown",
   "id": "51ebad64",
   "metadata": {},
   "source": [
    "### Điểm liệt do môn Toán"
   ]
  },
  {
   "cell_type": "code",
   "execution_count": 40,
   "id": "e3fc39f0",
   "metadata": {},
   "outputs": [
    {
     "data": {
      "text/html": [
       "<div>\n",
       "<style scoped>\n",
       "    .dataframe tbody tr th:only-of-type {\n",
       "        vertical-align: middle;\n",
       "    }\n",
       "\n",
       "    .dataframe tbody tr th {\n",
       "        vertical-align: top;\n",
       "    }\n",
       "\n",
       "    .dataframe thead th {\n",
       "        text-align: right;\n",
       "    }\n",
       "</style>\n",
       "<table border=\"1\" class=\"dataframe\">\n",
       "  <thead>\n",
       "    <tr style=\"text-align: right;\">\n",
       "      <th></th>\n",
       "      <th>Ngu Van</th>\n",
       "      <th>Toan Hoc</th>\n",
       "      <th>Ngoai Ngu</th>\n",
       "      <th>Vat Ly</th>\n",
       "      <th>Hoa Hoc</th>\n",
       "      <th>Sinh Hoc</th>\n",
       "      <th>Lich Su</th>\n",
       "      <th>Dia Ly</th>\n",
       "      <th>GDCD</th>\n",
       "    </tr>\n",
       "    <tr>\n",
       "      <th>SBD</th>\n",
       "      <th></th>\n",
       "      <th></th>\n",
       "      <th></th>\n",
       "      <th></th>\n",
       "      <th></th>\n",
       "      <th></th>\n",
       "      <th></th>\n",
       "      <th></th>\n",
       "      <th></th>\n",
       "    </tr>\n",
       "  </thead>\n",
       "  <tbody>\n",
       "    <tr>\n",
       "      <th>28029946</th>\n",
       "      <td>2.50</td>\n",
       "      <td>0.8</td>\n",
       "      <td>NaN</td>\n",
       "      <td>NaN</td>\n",
       "      <td>NaN</td>\n",
       "      <td>NaN</td>\n",
       "      <td>3.75</td>\n",
       "      <td>2.75</td>\n",
       "      <td>NaN</td>\n",
       "    </tr>\n",
       "    <tr>\n",
       "      <th>28030104</th>\n",
       "      <td>3.00</td>\n",
       "      <td>1.0</td>\n",
       "      <td>NaN</td>\n",
       "      <td>NaN</td>\n",
       "      <td>NaN</td>\n",
       "      <td>NaN</td>\n",
       "      <td>3.75</td>\n",
       "      <td>5.25</td>\n",
       "      <td>NaN</td>\n",
       "    </tr>\n",
       "    <tr>\n",
       "      <th>28030378</th>\n",
       "      <td>3.50</td>\n",
       "      <td>0.8</td>\n",
       "      <td>NaN</td>\n",
       "      <td>NaN</td>\n",
       "      <td>NaN</td>\n",
       "      <td>NaN</td>\n",
       "      <td>3.00</td>\n",
       "      <td>3.75</td>\n",
       "      <td>NaN</td>\n",
       "    </tr>\n",
       "    <tr>\n",
       "      <th>6002426</th>\n",
       "      <td>5.00</td>\n",
       "      <td>1.0</td>\n",
       "      <td>1.2</td>\n",
       "      <td>NaN</td>\n",
       "      <td>NaN</td>\n",
       "      <td>NaN</td>\n",
       "      <td>3.25</td>\n",
       "      <td>5.50</td>\n",
       "      <td>5.50</td>\n",
       "    </tr>\n",
       "    <tr>\n",
       "      <th>6002481</th>\n",
       "      <td>3.25</td>\n",
       "      <td>1.0</td>\n",
       "      <td>2.6</td>\n",
       "      <td>NaN</td>\n",
       "      <td>NaN</td>\n",
       "      <td>NaN</td>\n",
       "      <td>1.75</td>\n",
       "      <td>3.25</td>\n",
       "      <td>4.75</td>\n",
       "    </tr>\n",
       "    <tr>\n",
       "      <th>...</th>\n",
       "      <td>...</td>\n",
       "      <td>...</td>\n",
       "      <td>...</td>\n",
       "      <td>...</td>\n",
       "      <td>...</td>\n",
       "      <td>...</td>\n",
       "      <td>...</td>\n",
       "      <td>...</td>\n",
       "      <td>...</td>\n",
       "    </tr>\n",
       "    <tr>\n",
       "      <th>29003775</th>\n",
       "      <td>3.25</td>\n",
       "      <td>1.0</td>\n",
       "      <td>2.8</td>\n",
       "      <td>NaN</td>\n",
       "      <td>NaN</td>\n",
       "      <td>NaN</td>\n",
       "      <td>3.50</td>\n",
       "      <td>3.50</td>\n",
       "      <td>4.50</td>\n",
       "    </tr>\n",
       "    <tr>\n",
       "      <th>29003930</th>\n",
       "      <td>4.50</td>\n",
       "      <td>1.0</td>\n",
       "      <td>2.6</td>\n",
       "      <td>NaN</td>\n",
       "      <td>NaN</td>\n",
       "      <td>NaN</td>\n",
       "      <td>3.50</td>\n",
       "      <td>3.75</td>\n",
       "      <td>5.50</td>\n",
       "    </tr>\n",
       "    <tr>\n",
       "      <th>29004008</th>\n",
       "      <td>6.00</td>\n",
       "      <td>1.0</td>\n",
       "      <td>2.0</td>\n",
       "      <td>NaN</td>\n",
       "      <td>NaN</td>\n",
       "      <td>NaN</td>\n",
       "      <td>2.25</td>\n",
       "      <td>5.00</td>\n",
       "      <td>5.75</td>\n",
       "    </tr>\n",
       "    <tr>\n",
       "      <th>26016047</th>\n",
       "      <td>3.25</td>\n",
       "      <td>1.0</td>\n",
       "      <td>2.4</td>\n",
       "      <td>NaN</td>\n",
       "      <td>NaN</td>\n",
       "      <td>NaN</td>\n",
       "      <td>2.50</td>\n",
       "      <td>5.25</td>\n",
       "      <td>7.75</td>\n",
       "    </tr>\n",
       "    <tr>\n",
       "      <th>26017016</th>\n",
       "      <td>2.00</td>\n",
       "      <td>1.0</td>\n",
       "      <td>NaN</td>\n",
       "      <td>NaN</td>\n",
       "      <td>NaN</td>\n",
       "      <td>NaN</td>\n",
       "      <td>4.50</td>\n",
       "      <td>6.50</td>\n",
       "      <td>NaN</td>\n",
       "    </tr>\n",
       "  </tbody>\n",
       "</table>\n",
       "<p>450 rows × 9 columns</p>\n",
       "</div>"
      ],
      "text/plain": [
       "          Ngu Van  Toan Hoc  Ngoai Ngu  Vat Ly  Hoa Hoc  Sinh Hoc  Lich Su  \\\n",
       "SBD                                                                          \n",
       "28029946     2.50       0.8        NaN     NaN      NaN       NaN     3.75   \n",
       "28030104     3.00       1.0        NaN     NaN      NaN       NaN     3.75   \n",
       "28030378     3.50       0.8        NaN     NaN      NaN       NaN     3.00   \n",
       "6002426      5.00       1.0        1.2     NaN      NaN       NaN     3.25   \n",
       "6002481      3.25       1.0        2.6     NaN      NaN       NaN     1.75   \n",
       "...           ...       ...        ...     ...      ...       ...      ...   \n",
       "29003775     3.25       1.0        2.8     NaN      NaN       NaN     3.50   \n",
       "29003930     4.50       1.0        2.6     NaN      NaN       NaN     3.50   \n",
       "29004008     6.00       1.0        2.0     NaN      NaN       NaN     2.25   \n",
       "26016047     3.25       1.0        2.4     NaN      NaN       NaN     2.50   \n",
       "26017016     2.00       1.0        NaN     NaN      NaN       NaN     4.50   \n",
       "\n",
       "          Dia Ly  GDCD  \n",
       "SBD                     \n",
       "28029946    2.75   NaN  \n",
       "28030104    5.25   NaN  \n",
       "28030378    3.75   NaN  \n",
       "6002426     5.50  5.50  \n",
       "6002481     3.25  4.75  \n",
       "...          ...   ...  \n",
       "29003775    3.50  4.50  \n",
       "29003930    3.75  5.50  \n",
       "29004008    5.00  5.75  \n",
       "26016047    5.25  7.75  \n",
       "26017016    6.50   NaN  \n",
       "\n",
       "[450 rows x 9 columns]"
      ]
     },
     "execution_count": 40,
     "metadata": {},
     "output_type": "execute_result"
    }
   ],
   "source": [
    "math_fail_df = score_df[score_df[\"Toan Hoc\"] <= 1.0]\n",
    "math_fail_df"
   ]
  },
  {
   "cell_type": "markdown",
   "id": "79241cc0",
   "metadata": {},
   "source": [
    "Dựa vào phân bố môn Ngữ Văn và Ngoại Ngữ của các học sinh bị điểm liệt môn Toán, có phân phối của các môn còn lại đều thấp hơn so với trung bình tổng thể. Điều tương tự cũng có thể quan sát được với những học sinh có điểm liệt môn Văn"
   ]
  },
  {
   "cell_type": "code",
   "execution_count": 41,
   "id": "f7baa15a",
   "metadata": {},
   "outputs": [
    {
     "data": {
      "image/png": "[encoded data removed]",
      "text/plain": [
       "<Figure size 576x576 with 4 Axes>"
      ]
     },
     "metadata": {
      "needs_background": "light"
     },
     "output_type": "display_data"
    }
   ],
   "source": [
    "math_fail_df[[\"Toan Hoc\", \"Ngu Van\", \"Ngoai Ngu\"]].hist(figsize=(8,8))\n",
    "plt.show()"
   ]
  },
  {
   "cell_type": "markdown",
   "id": "7d22137d",
   "metadata": {},
   "source": [
    "### Điểm liệt do môn Văn\n",
    "\n",
    "Một điều đáng lưu ý là số lượng học sinh bị điểm liệt do môn Văn là khá nhiều"
   ]
  },
  {
   "cell_type": "code",
   "execution_count": 42,
   "id": "1aadbf42",
   "metadata": {},
   "outputs": [
    {
     "data": {
      "text/html": [
       "<div>\n",
       "<style scoped>\n",
       "    .dataframe tbody tr th:only-of-type {\n",
       "        vertical-align: middle;\n",
       "    }\n",
       "\n",
       "    .dataframe tbody tr th {\n",
       "        vertical-align: top;\n",
       "    }\n",
       "\n",
       "    .dataframe thead th {\n",
       "        text-align: right;\n",
       "    }\n",
       "</style>\n",
       "<table border=\"1\" class=\"dataframe\">\n",
       "  <thead>\n",
       "    <tr style=\"text-align: right;\">\n",
       "      <th></th>\n",
       "      <th>Ngu Van</th>\n",
       "      <th>Toan Hoc</th>\n",
       "      <th>Ngoai Ngu</th>\n",
       "      <th>Vat Ly</th>\n",
       "      <th>Hoa Hoc</th>\n",
       "      <th>Sinh Hoc</th>\n",
       "      <th>Lich Su</th>\n",
       "      <th>Dia Ly</th>\n",
       "      <th>GDCD</th>\n",
       "    </tr>\n",
       "    <tr>\n",
       "      <th>SBD</th>\n",
       "      <th></th>\n",
       "      <th></th>\n",
       "      <th></th>\n",
       "      <th></th>\n",
       "      <th></th>\n",
       "      <th></th>\n",
       "      <th></th>\n",
       "      <th></th>\n",
       "      <th></th>\n",
       "    </tr>\n",
       "  </thead>\n",
       "  <tbody>\n",
       "    <tr>\n",
       "      <th>51000649</th>\n",
       "      <td>1.00</td>\n",
       "      <td>NaN</td>\n",
       "      <td>NaN</td>\n",
       "      <td>NaN</td>\n",
       "      <td>NaN</td>\n",
       "      <td>NaN</td>\n",
       "      <td>3.50</td>\n",
       "      <td>6.25</td>\n",
       "      <td>NaN</td>\n",
       "    </tr>\n",
       "    <tr>\n",
       "      <th>28029710</th>\n",
       "      <td>0.00</td>\n",
       "      <td>2.6</td>\n",
       "      <td>1.8</td>\n",
       "      <td>NaN</td>\n",
       "      <td>NaN</td>\n",
       "      <td>NaN</td>\n",
       "      <td>1.75</td>\n",
       "      <td>3.50</td>\n",
       "      <td>5.5</td>\n",
       "    </tr>\n",
       "    <tr>\n",
       "      <th>6000140</th>\n",
       "      <td>0.50</td>\n",
       "      <td>3.4</td>\n",
       "      <td>NaN</td>\n",
       "      <td>NaN</td>\n",
       "      <td>NaN</td>\n",
       "      <td>NaN</td>\n",
       "      <td>3.75</td>\n",
       "      <td>5.50</td>\n",
       "      <td>NaN</td>\n",
       "    </tr>\n",
       "    <tr>\n",
       "      <th>6000141</th>\n",
       "      <td>0.50</td>\n",
       "      <td>2.4</td>\n",
       "      <td>NaN</td>\n",
       "      <td>NaN</td>\n",
       "      <td>NaN</td>\n",
       "      <td>NaN</td>\n",
       "      <td>2.75</td>\n",
       "      <td>3.00</td>\n",
       "      <td>NaN</td>\n",
       "    </tr>\n",
       "    <tr>\n",
       "      <th>6000138</th>\n",
       "      <td>0.75</td>\n",
       "      <td>2.2</td>\n",
       "      <td>NaN</td>\n",
       "      <td>NaN</td>\n",
       "      <td>NaN</td>\n",
       "      <td>NaN</td>\n",
       "      <td>2.25</td>\n",
       "      <td>4.00</td>\n",
       "      <td>NaN</td>\n",
       "    </tr>\n",
       "    <tr>\n",
       "      <th>...</th>\n",
       "      <td>...</td>\n",
       "      <td>...</td>\n",
       "      <td>...</td>\n",
       "      <td>...</td>\n",
       "      <td>...</td>\n",
       "      <td>...</td>\n",
       "      <td>...</td>\n",
       "      <td>...</td>\n",
       "      <td>...</td>\n",
       "    </tr>\n",
       "    <tr>\n",
       "      <th>26016571</th>\n",
       "      <td>0.25</td>\n",
       "      <td>2.0</td>\n",
       "      <td>NaN</td>\n",
       "      <td>NaN</td>\n",
       "      <td>NaN</td>\n",
       "      <td>NaN</td>\n",
       "      <td>1.75</td>\n",
       "      <td>2.25</td>\n",
       "      <td>NaN</td>\n",
       "    </tr>\n",
       "    <tr>\n",
       "      <th>26016627</th>\n",
       "      <td>1.00</td>\n",
       "      <td>2.6</td>\n",
       "      <td>NaN</td>\n",
       "      <td>NaN</td>\n",
       "      <td>NaN</td>\n",
       "      <td>NaN</td>\n",
       "      <td>3.25</td>\n",
       "      <td>2.50</td>\n",
       "      <td>NaN</td>\n",
       "    </tr>\n",
       "    <tr>\n",
       "      <th>26016643</th>\n",
       "      <td>1.00</td>\n",
       "      <td>3.0</td>\n",
       "      <td>NaN</td>\n",
       "      <td>NaN</td>\n",
       "      <td>NaN</td>\n",
       "      <td>NaN</td>\n",
       "      <td>2.50</td>\n",
       "      <td>3.50</td>\n",
       "      <td>NaN</td>\n",
       "    </tr>\n",
       "    <tr>\n",
       "      <th>26016666</th>\n",
       "      <td>0.50</td>\n",
       "      <td>3.0</td>\n",
       "      <td>NaN</td>\n",
       "      <td>NaN</td>\n",
       "      <td>NaN</td>\n",
       "      <td>NaN</td>\n",
       "      <td>3.25</td>\n",
       "      <td>1.25</td>\n",
       "      <td>NaN</td>\n",
       "    </tr>\n",
       "    <tr>\n",
       "      <th>26016943</th>\n",
       "      <td>1.00</td>\n",
       "      <td>3.0</td>\n",
       "      <td>NaN</td>\n",
       "      <td>NaN</td>\n",
       "      <td>NaN</td>\n",
       "      <td>NaN</td>\n",
       "      <td>3.25</td>\n",
       "      <td>4.25</td>\n",
       "      <td>NaN</td>\n",
       "    </tr>\n",
       "  </tbody>\n",
       "</table>\n",
       "<p>1424 rows × 9 columns</p>\n",
       "</div>"
      ],
      "text/plain": [
       "          Ngu Van  Toan Hoc  Ngoai Ngu  Vat Ly  Hoa Hoc  Sinh Hoc  Lich Su  \\\n",
       "SBD                                                                          \n",
       "51000649     1.00       NaN        NaN     NaN      NaN       NaN     3.50   \n",
       "28029710     0.00       2.6        1.8     NaN      NaN       NaN     1.75   \n",
       "6000140      0.50       3.4        NaN     NaN      NaN       NaN     3.75   \n",
       "6000141      0.50       2.4        NaN     NaN      NaN       NaN     2.75   \n",
       "6000138      0.75       2.2        NaN     NaN      NaN       NaN     2.25   \n",
       "...           ...       ...        ...     ...      ...       ...      ...   \n",
       "26016571     0.25       2.0        NaN     NaN      NaN       NaN     1.75   \n",
       "26016627     1.00       2.6        NaN     NaN      NaN       NaN     3.25   \n",
       "26016643     1.00       3.0        NaN     NaN      NaN       NaN     2.50   \n",
       "26016666     0.50       3.0        NaN     NaN      NaN       NaN     3.25   \n",
       "26016943     1.00       3.0        NaN     NaN      NaN       NaN     3.25   \n",
       "\n",
       "          Dia Ly  GDCD  \n",
       "SBD                     \n",
       "51000649    6.25   NaN  \n",
       "28029710    3.50   5.5  \n",
       "6000140     5.50   NaN  \n",
       "6000141     3.00   NaN  \n",
       "6000138     4.00   NaN  \n",
       "...          ...   ...  \n",
       "26016571    2.25   NaN  \n",
       "26016627    2.50   NaN  \n",
       "26016643    3.50   NaN  \n",
       "26016666    1.25   NaN  \n",
       "26016943    4.25   NaN  \n",
       "\n",
       "[1424 rows x 9 columns]"
      ]
     },
     "execution_count": 42,
     "metadata": {},
     "output_type": "execute_result"
    }
   ],
   "source": [
    "literature_fail_df = score_df[score_df[\"Ngu Van\"] <= 1.0]\n",
    "literature_fail_df"
   ]
  },
  {
   "cell_type": "code",
   "execution_count": 43,
   "id": "9033325b",
   "metadata": {},
   "outputs": [
    {
     "data": {
      "image/png": "[encoded data removed]",
      "text/plain": [
       "<Figure size 576x576 with 4 Axes>"
      ]
     },
     "metadata": {
      "needs_background": "light"
     },
     "output_type": "display_data"
    }
   ],
   "source": [
    "literature_fail_df[[\"Toan Hoc\", \"Ngu Van\", \"Ngoai Ngu\"]].hist(figsize=(8,8))\n",
    "plt.show()"
   ]
  },
  {
   "cell_type": "markdown",
   "id": "3e040479",
   "metadata": {},
   "source": [
    "Riêng môn Ngoại Ngữ, ta thấy có một chút khác biệt về phân phối. Chúng trải đều hơn. Có thể do học sinh không chú trọng môn học này lắm."
   ]
  },
  {
   "cell_type": "markdown",
   "id": "f3956e60",
   "metadata": {},
   "source": [
    "### Điểm liệt do môn Ngoại Ngữ"
   ]
  },
  {
   "cell_type": "code",
   "execution_count": 44,
   "id": "ab827c74",
   "metadata": {},
   "outputs": [
    {
     "data": {
      "text/html": [
       "<div>\n",
       "<style scoped>\n",
       "    .dataframe tbody tr th:only-of-type {\n",
       "        vertical-align: middle;\n",
       "    }\n",
       "\n",
       "    .dataframe tbody tr th {\n",
       "        vertical-align: top;\n",
       "    }\n",
       "\n",
       "    .dataframe thead th {\n",
       "        text-align: right;\n",
       "    }\n",
       "</style>\n",
       "<table border=\"1\" class=\"dataframe\">\n",
       "  <thead>\n",
       "    <tr style=\"text-align: right;\">\n",
       "      <th></th>\n",
       "      <th>Ngu Van</th>\n",
       "      <th>Toan Hoc</th>\n",
       "      <th>Ngoai Ngu</th>\n",
       "      <th>Vat Ly</th>\n",
       "      <th>Hoa Hoc</th>\n",
       "      <th>Sinh Hoc</th>\n",
       "      <th>Lich Su</th>\n",
       "      <th>Dia Ly</th>\n",
       "      <th>GDCD</th>\n",
       "    </tr>\n",
       "    <tr>\n",
       "      <th>SBD</th>\n",
       "      <th></th>\n",
       "      <th></th>\n",
       "      <th></th>\n",
       "      <th></th>\n",
       "      <th></th>\n",
       "      <th></th>\n",
       "      <th></th>\n",
       "      <th></th>\n",
       "      <th></th>\n",
       "    </tr>\n",
       "  </thead>\n",
       "  <tbody>\n",
       "    <tr>\n",
       "      <th>28026400</th>\n",
       "      <td>2.25</td>\n",
       "      <td>3.4</td>\n",
       "      <td>1.0</td>\n",
       "      <td>NaN</td>\n",
       "      <td>NaN</td>\n",
       "      <td>NaN</td>\n",
       "      <td>4.50</td>\n",
       "      <td>3.50</td>\n",
       "      <td>5.50</td>\n",
       "    </tr>\n",
       "    <tr>\n",
       "      <th>28027314</th>\n",
       "      <td>6.50</td>\n",
       "      <td>2.6</td>\n",
       "      <td>0.6</td>\n",
       "      <td>NaN</td>\n",
       "      <td>NaN</td>\n",
       "      <td>NaN</td>\n",
       "      <td>4.00</td>\n",
       "      <td>5.50</td>\n",
       "      <td>7.25</td>\n",
       "    </tr>\n",
       "    <tr>\n",
       "      <th>28027657</th>\n",
       "      <td>5.00</td>\n",
       "      <td>4.8</td>\n",
       "      <td>0.8</td>\n",
       "      <td>NaN</td>\n",
       "      <td>NaN</td>\n",
       "      <td>NaN</td>\n",
       "      <td>3.25</td>\n",
       "      <td>5.25</td>\n",
       "      <td>4.50</td>\n",
       "    </tr>\n",
       "    <tr>\n",
       "      <th>28027843</th>\n",
       "      <td>6.25</td>\n",
       "      <td>4.6</td>\n",
       "      <td>1.0</td>\n",
       "      <td>NaN</td>\n",
       "      <td>NaN</td>\n",
       "      <td>NaN</td>\n",
       "      <td>6.25</td>\n",
       "      <td>6.25</td>\n",
       "      <td>9.25</td>\n",
       "    </tr>\n",
       "    <tr>\n",
       "      <th>28029338</th>\n",
       "      <td>6.25</td>\n",
       "      <td>5.2</td>\n",
       "      <td>1.0</td>\n",
       "      <td>NaN</td>\n",
       "      <td>NaN</td>\n",
       "      <td>NaN</td>\n",
       "      <td>3.75</td>\n",
       "      <td>5.75</td>\n",
       "      <td>7.25</td>\n",
       "    </tr>\n",
       "    <tr>\n",
       "      <th>...</th>\n",
       "      <td>...</td>\n",
       "      <td>...</td>\n",
       "      <td>...</td>\n",
       "      <td>...</td>\n",
       "      <td>...</td>\n",
       "      <td>...</td>\n",
       "      <td>...</td>\n",
       "      <td>...</td>\n",
       "      <td>...</td>\n",
       "    </tr>\n",
       "    <tr>\n",
       "      <th>29003707</th>\n",
       "      <td>6.50</td>\n",
       "      <td>5.0</td>\n",
       "      <td>1.0</td>\n",
       "      <td>NaN</td>\n",
       "      <td>NaN</td>\n",
       "      <td>NaN</td>\n",
       "      <td>3.75</td>\n",
       "      <td>5.75</td>\n",
       "      <td>6.25</td>\n",
       "    </tr>\n",
       "    <tr>\n",
       "      <th>29003834</th>\n",
       "      <td>3.50</td>\n",
       "      <td>2.8</td>\n",
       "      <td>1.0</td>\n",
       "      <td>NaN</td>\n",
       "      <td>NaN</td>\n",
       "      <td>NaN</td>\n",
       "      <td>2.75</td>\n",
       "      <td>3.25</td>\n",
       "      <td>3.25</td>\n",
       "    </tr>\n",
       "    <tr>\n",
       "      <th>29004540</th>\n",
       "      <td>4.75</td>\n",
       "      <td>3.4</td>\n",
       "      <td>1.0</td>\n",
       "      <td>NaN</td>\n",
       "      <td>NaN</td>\n",
       "      <td>NaN</td>\n",
       "      <td>2.25</td>\n",
       "      <td>5.75</td>\n",
       "      <td>4.50</td>\n",
       "    </tr>\n",
       "    <tr>\n",
       "      <th>26018826</th>\n",
       "      <td>3.00</td>\n",
       "      <td>4.2</td>\n",
       "      <td>1.0</td>\n",
       "      <td>NaN</td>\n",
       "      <td>NaN</td>\n",
       "      <td>NaN</td>\n",
       "      <td>4.25</td>\n",
       "      <td>4.00</td>\n",
       "      <td>7.25</td>\n",
       "    </tr>\n",
       "    <tr>\n",
       "      <th>26019022</th>\n",
       "      <td>5.00</td>\n",
       "      <td>5.0</td>\n",
       "      <td>1.0</td>\n",
       "      <td>NaN</td>\n",
       "      <td>NaN</td>\n",
       "      <td>NaN</td>\n",
       "      <td>2.75</td>\n",
       "      <td>5.50</td>\n",
       "      <td>6.00</td>\n",
       "    </tr>\n",
       "  </tbody>\n",
       "</table>\n",
       "<p>737 rows × 9 columns</p>\n",
       "</div>"
      ],
      "text/plain": [
       "          Ngu Van  Toan Hoc  Ngoai Ngu  Vat Ly  Hoa Hoc  Sinh Hoc  Lich Su  \\\n",
       "SBD                                                                          \n",
       "28026400     2.25       3.4        1.0     NaN      NaN       NaN     4.50   \n",
       "28027314     6.50       2.6        0.6     NaN      NaN       NaN     4.00   \n",
       "28027657     5.00       4.8        0.8     NaN      NaN       NaN     3.25   \n",
       "28027843     6.25       4.6        1.0     NaN      NaN       NaN     6.25   \n",
       "28029338     6.25       5.2        1.0     NaN      NaN       NaN     3.75   \n",
       "...           ...       ...        ...     ...      ...       ...      ...   \n",
       "29003707     6.50       5.0        1.0     NaN      NaN       NaN     3.75   \n",
       "29003834     3.50       2.8        1.0     NaN      NaN       NaN     2.75   \n",
       "29004540     4.75       3.4        1.0     NaN      NaN       NaN     2.25   \n",
       "26018826     3.00       4.2        1.0     NaN      NaN       NaN     4.25   \n",
       "26019022     5.00       5.0        1.0     NaN      NaN       NaN     2.75   \n",
       "\n",
       "          Dia Ly  GDCD  \n",
       "SBD                     \n",
       "28026400    3.50  5.50  \n",
       "28027314    5.50  7.25  \n",
       "28027657    5.25  4.50  \n",
       "28027843    6.25  9.25  \n",
       "28029338    5.75  7.25  \n",
       "...          ...   ...  \n",
       "29003707    5.75  6.25  \n",
       "29003834    3.25  3.25  \n",
       "29004540    5.75  4.50  \n",
       "26018826    4.00  7.25  \n",
       "26019022    5.50  6.00  \n",
       "\n",
       "[737 rows x 9 columns]"
      ]
     },
     "execution_count": 44,
     "metadata": {},
     "output_type": "execute_result"
    }
   ],
   "source": [
    "lang_fail_df = score_df[score_df[\"Ngoai Ngu\"] <= 1.0]\n",
    "lang_fail_df"
   ]
  },
  {
   "cell_type": "code",
   "execution_count": 45,
   "id": "241016eb",
   "metadata": {},
   "outputs": [
    {
     "data": {
      "image/png": "[encoded data removed]",
      "text/plain": [
       "<Figure size 576x576 with 4 Axes>"
      ]
     },
     "metadata": {
      "needs_background": "light"
     },
     "output_type": "display_data"
    }
   ],
   "source": [
    "lang_fail_df[[\"Toan Hoc\", \"Ngu Van\", \"Ngoai Ngu\"]].hist(figsize=(8,8))\n",
    "plt.show()"
   ]
  },
  {
   "cell_type": "code",
   "execution_count": null,
   "id": "d37ed4dc",
   "metadata": {},
   "outputs": [],
   "source": []
  },
  {
   "cell_type": "code",
   "execution_count": null,
   "id": "751156bf",
   "metadata": {},
   "outputs": [],
   "source": []
  }
 ],
 "metadata": {
  "kernelspec": {
   "display_name": "Python 3",
   "language": "python",
   "name": "python3"
  },
  "language_info": {
   "codemirror_mode": {
    "name": "ipython",
    "version": 3
   },
   "file_extension": ".py",
   "mimetype": "text/x-python",
   "name": "python",
   "nbconvert_exporter": "python",
   "pygments_lexer": "ipython3",
   "version": "3.8.8"
  }
 },
 "nbformat": 4,
 "nbformat_minor": 5
}
