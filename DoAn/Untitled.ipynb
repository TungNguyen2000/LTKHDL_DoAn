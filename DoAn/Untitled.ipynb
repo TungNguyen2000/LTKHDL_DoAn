{
 "cells": [
  {
   "cell_type": "markdown",
   "id": "3c37b428",
   "metadata": {},
   "source": [
    "## phân tích dữ liệu các môn tự nhiên"
   ]
  },
  {
   "cell_type": "code",
   "execution_count": 1,
   "id": "d83f0b34",
   "metadata": {},
   "outputs": [
    {
     "name": "stdout",
     "output_type": "stream",
     "text": [
      "/home/bachtung/miniconda3/envs/p4ds-env/bin/python\r\n"
     ]
    }
   ],
   "source": [
    "!which python "
   ]
  },
  {
   "cell_type": "code",
   "execution_count": 2,
   "id": "68b3b347",
   "metadata": {},
   "outputs": [],
   "source": [
    "import pandas as pd\n",
    "import matplotlib.pyplot as plt\n",
    "import numpy as np"
   ]
  },
  {
   "cell_type": "code",
   "execution_count": 3,
   "id": "fddf3edb",
   "metadata": {},
   "outputs": [
    {
     "data": {
      "text/html": [
       "<div>\n",
       "<style scoped>\n",
       "    .dataframe tbody tr th:only-of-type {\n",
       "        vertical-align: middle;\n",
       "    }\n",
       "\n",
       "    .dataframe tbody tr th {\n",
       "        vertical-align: top;\n",
       "    }\n",
       "\n",
       "    .dataframe thead th {\n",
       "        text-align: right;\n",
       "    }\n",
       "</style>\n",
       "<table border=\"1\" class=\"dataframe\">\n",
       "  <thead>\n",
       "    <tr style=\"text-align: right;\">\n",
       "      <th></th>\n",
       "      <th>Unnamed: 0</th>\n",
       "      <th>SBD</th>\n",
       "      <th>Ngu Van</th>\n",
       "      <th>Toan Hoc</th>\n",
       "      <th>Ma Ngoai Ngu</th>\n",
       "      <th>Ngoai Ngu</th>\n",
       "      <th>Vat Ly</th>\n",
       "      <th>Hoa Hoc</th>\n",
       "      <th>Sinh Hoc</th>\n",
       "      <th>Lich Su</th>\n",
       "      <th>Dia Ly</th>\n",
       "      <th>GDCD</th>\n",
       "    </tr>\n",
       "  </thead>\n",
       "  <tbody>\n",
       "    <tr>\n",
       "      <th>0</th>\n",
       "      <td>0</td>\n",
       "      <td>24008611</td>\n",
       "      <td>8.00</td>\n",
       "      <td>8.2</td>\n",
       "      <td>N1</td>\n",
       "      <td>7.6</td>\n",
       "      <td>NaN</td>\n",
       "      <td>NaN</td>\n",
       "      <td>NaN</td>\n",
       "      <td>8.25</td>\n",
       "      <td>7.75</td>\n",
       "      <td>8.75</td>\n",
       "    </tr>\n",
       "    <tr>\n",
       "      <th>1</th>\n",
       "      <td>1</td>\n",
       "      <td>51000032</td>\n",
       "      <td>6.17</td>\n",
       "      <td>8.6</td>\n",
       "      <td>N1</td>\n",
       "      <td>8.0</td>\n",
       "      <td>8.25</td>\n",
       "      <td>4.5</td>\n",
       "      <td>6.0</td>\n",
       "      <td>NaN</td>\n",
       "      <td>NaN</td>\n",
       "      <td>NaN</td>\n",
       "    </tr>\n",
       "    <tr>\n",
       "      <th>2</th>\n",
       "      <td>2</td>\n",
       "      <td>51000005</td>\n",
       "      <td>4.75</td>\n",
       "      <td>5.2</td>\n",
       "      <td>NaN</td>\n",
       "      <td>NaN</td>\n",
       "      <td>NaN</td>\n",
       "      <td>NaN</td>\n",
       "      <td>NaN</td>\n",
       "      <td>4.00</td>\n",
       "      <td>4.25</td>\n",
       "      <td>5.75</td>\n",
       "    </tr>\n",
       "    <tr>\n",
       "      <th>3</th>\n",
       "      <td>3</td>\n",
       "      <td>51000021</td>\n",
       "      <td>4.50</td>\n",
       "      <td>4.4</td>\n",
       "      <td>NaN</td>\n",
       "      <td>NaN</td>\n",
       "      <td>NaN</td>\n",
       "      <td>NaN</td>\n",
       "      <td>NaN</td>\n",
       "      <td>2.25</td>\n",
       "      <td>4.75</td>\n",
       "      <td>5.00</td>\n",
       "    </tr>\n",
       "    <tr>\n",
       "      <th>4</th>\n",
       "      <td>4</td>\n",
       "      <td>51000013</td>\n",
       "      <td>6.00</td>\n",
       "      <td>5.8</td>\n",
       "      <td>N1</td>\n",
       "      <td>4.4</td>\n",
       "      <td>NaN</td>\n",
       "      <td>NaN</td>\n",
       "      <td>NaN</td>\n",
       "      <td>7.75</td>\n",
       "      <td>8.25</td>\n",
       "      <td>7.50</td>\n",
       "    </tr>\n",
       "  </tbody>\n",
       "</table>\n",
       "</div>"
      ],
      "text/plain": [
       "   Unnamed: 0       SBD  Ngu Van  Toan Hoc Ma Ngoai Ngu  Ngoai Ngu  Vat Ly  \\\n",
       "0           0  24008611     8.00       8.2           N1        7.6     NaN   \n",
       "1           1  51000032     6.17       8.6           N1        8.0    8.25   \n",
       "2           2  51000005     4.75       5.2          NaN        NaN     NaN   \n",
       "3           3  51000021     4.50       4.4          NaN        NaN     NaN   \n",
       "4           4  51000013     6.00       5.8           N1        4.4     NaN   \n",
       "\n",
       "   Hoa Hoc  Sinh Hoc  Lich Su  Dia Ly  GDCD  \n",
       "0      NaN       NaN     8.25    7.75  8.75  \n",
       "1      4.5       6.0      NaN     NaN   NaN  \n",
       "2      NaN       NaN     4.00    4.25  5.75  \n",
       "3      NaN       NaN     2.25    4.75  5.00  \n",
       "4      NaN       NaN     7.75    8.25  7.50  "
      ]
     },
     "execution_count": 3,
     "metadata": {},
     "output_type": "execute_result"
    }
   ],
   "source": [
    "point_df = pd.read_csv('diemthi2019_update.csv') \n",
    "point_df.head()"
   ]
  },
  {
   "cell_type": "code",
   "execution_count": 4,
   "id": "df91d91a",
   "metadata": {},
   "outputs": [
    {
     "data": {
      "text/html": [
       "<div>\n",
       "<style scoped>\n",
       "    .dataframe tbody tr th:only-of-type {\n",
       "        vertical-align: middle;\n",
       "    }\n",
       "\n",
       "    .dataframe tbody tr th {\n",
       "        vertical-align: top;\n",
       "    }\n",
       "\n",
       "    .dataframe thead th {\n",
       "        text-align: right;\n",
       "    }\n",
       "</style>\n",
       "<table border=\"1\" class=\"dataframe\">\n",
       "  <thead>\n",
       "    <tr style=\"text-align: right;\">\n",
       "      <th></th>\n",
       "      <th>Unnamed: 0</th>\n",
       "      <th>SBD</th>\n",
       "      <th>Ngu Van</th>\n",
       "      <th>Toan Hoc</th>\n",
       "      <th>Ma Ngoai Ngu</th>\n",
       "      <th>Ngoai Ngu</th>\n",
       "      <th>Vat Ly</th>\n",
       "      <th>Hoa Hoc</th>\n",
       "      <th>Sinh Hoc</th>\n",
       "      <th>Lich Su</th>\n",
       "      <th>Dia Ly</th>\n",
       "      <th>GDCD</th>\n",
       "    </tr>\n",
       "  </thead>\n",
       "  <tbody>\n",
       "    <tr>\n",
       "      <th>0</th>\n",
       "      <td>0</td>\n",
       "      <td>24008611</td>\n",
       "      <td>8.00</td>\n",
       "      <td>8.2</td>\n",
       "      <td>N1</td>\n",
       "      <td>7.6</td>\n",
       "      <td>NaN</td>\n",
       "      <td>NaN</td>\n",
       "      <td>NaN</td>\n",
       "      <td>8.25</td>\n",
       "      <td>7.75</td>\n",
       "      <td>8.75</td>\n",
       "    </tr>\n",
       "    <tr>\n",
       "      <th>1</th>\n",
       "      <td>1</td>\n",
       "      <td>51000032</td>\n",
       "      <td>6.17</td>\n",
       "      <td>8.6</td>\n",
       "      <td>N1</td>\n",
       "      <td>8.0</td>\n",
       "      <td>8.25</td>\n",
       "      <td>4.5</td>\n",
       "      <td>6.0</td>\n",
       "      <td>NaN</td>\n",
       "      <td>NaN</td>\n",
       "      <td>NaN</td>\n",
       "    </tr>\n",
       "    <tr>\n",
       "      <th>2</th>\n",
       "      <td>2</td>\n",
       "      <td>51000005</td>\n",
       "      <td>4.75</td>\n",
       "      <td>5.2</td>\n",
       "      <td>NaN</td>\n",
       "      <td>NaN</td>\n",
       "      <td>NaN</td>\n",
       "      <td>NaN</td>\n",
       "      <td>NaN</td>\n",
       "      <td>4.00</td>\n",
       "      <td>4.25</td>\n",
       "      <td>5.75</td>\n",
       "    </tr>\n",
       "    <tr>\n",
       "      <th>3</th>\n",
       "      <td>3</td>\n",
       "      <td>51000021</td>\n",
       "      <td>4.50</td>\n",
       "      <td>4.4</td>\n",
       "      <td>NaN</td>\n",
       "      <td>NaN</td>\n",
       "      <td>NaN</td>\n",
       "      <td>NaN</td>\n",
       "      <td>NaN</td>\n",
       "      <td>2.25</td>\n",
       "      <td>4.75</td>\n",
       "      <td>5.00</td>\n",
       "    </tr>\n",
       "    <tr>\n",
       "      <th>4</th>\n",
       "      <td>4</td>\n",
       "      <td>51000013</td>\n",
       "      <td>6.00</td>\n",
       "      <td>5.8</td>\n",
       "      <td>N1</td>\n",
       "      <td>4.4</td>\n",
       "      <td>NaN</td>\n",
       "      <td>NaN</td>\n",
       "      <td>NaN</td>\n",
       "      <td>7.75</td>\n",
       "      <td>8.25</td>\n",
       "      <td>7.50</td>\n",
       "    </tr>\n",
       "  </tbody>\n",
       "</table>\n",
       "</div>"
      ],
      "text/plain": [
       "   Unnamed: 0       SBD  Ngu Van  Toan Hoc Ma Ngoai Ngu  Ngoai Ngu  Vat Ly  \\\n",
       "0           0  24008611     8.00       8.2           N1        7.6     NaN   \n",
       "1           1  51000032     6.17       8.6           N1        8.0    8.25   \n",
       "2           2  51000005     4.75       5.2          NaN        NaN     NaN   \n",
       "3           3  51000021     4.50       4.4          NaN        NaN     NaN   \n",
       "4           4  51000013     6.00       5.8           N1        4.4     NaN   \n",
       "\n",
       "   Hoa Hoc  Sinh Hoc  Lich Su  Dia Ly  GDCD  \n",
       "0      NaN       NaN     8.25    7.75  8.75  \n",
       "1      4.5       6.0      NaN     NaN   NaN  \n",
       "2      NaN       NaN     4.00    4.25  5.75  \n",
       "3      NaN       NaN     2.25    4.75  5.00  \n",
       "4      NaN       NaN     7.75    8.25  7.50  "
      ]
     },
     "execution_count": 4,
     "metadata": {},
     "output_type": "execute_result"
    }
   ],
   "source": [
    "point_df\n",
    "point_df.head()"
   ]
  },
  {
   "cell_type": "markdown",
   "id": "d5798864",
   "metadata": {},
   "source": [
    "**có bao nhiêu dòng và cột**"
   ]
  },
  {
   "cell_type": "code",
   "execution_count": 5,
   "id": "c6be7825",
   "metadata": {},
   "outputs": [],
   "source": [
    "num_cols_point = point_df.shape[1]\n",
    "num_rows_point = point_df.shape[0]"
   ]
  },
  {
   "cell_type": "markdown",
   "id": "a02a6edc",
   "metadata": {},
   "source": [
    "Một dòng là set điểm của một học sinh khóa 2019. Có vẻ không có dòng nào là bị lặp"
   ]
  },
  {
   "cell_type": "code",
   "execution_count": 6,
   "id": "392c7e4c",
   "metadata": {},
   "outputs": [],
   "source": [
    "have_duplicated = point_df.duplicated().any()"
   ]
  },
  {
   "cell_type": "markdown",
   "id": "640b707e",
   "metadata": {},
   "source": [
    "- **SBD**: số báo danh của thí sinh.\n",
    "- **Toán Học**: điểm thi môn toán.\n",
    "- **Vật Lý**: điểm thi môn Vật Lý.\n",
    "- **Hóa Học**: điểm thi môn Hóa.\n",
    "- **Sinh học** điểm thi môn Sinh."
   ]
  },
  {
   "cell_type": "code",
   "execution_count": 7,
   "id": "30d86dbe",
   "metadata": {},
   "outputs": [
    {
     "data": {
      "text/plain": [
       "Unnamed: 0        int64\n",
       "SBD               int64\n",
       "Ngu Van         float64\n",
       "Toan Hoc        float64\n",
       "Ma Ngoai Ngu     object\n",
       "Ngoai Ngu       float64\n",
       "Vat Ly          float64\n",
       "Hoa Hoc         float64\n",
       "Sinh Hoc        float64\n",
       "Lich Su         float64\n",
       "Dia Ly          float64\n",
       "GDCD            float64\n",
       "dtype: object"
      ]
     },
     "execution_count": 7,
     "metadata": {},
     "output_type": "execute_result"
    }
   ],
   "source": [
    "cols_dtype = pd.Series(data=point_df.dtypes, index=point_df.columns)\n",
    "cols_dtype"
   ]
  },
  {
   "cell_type": "markdown",
   "id": "1bb12aae",
   "metadata": {},
   "source": [
    "tìm tỷ lệ giá trị thiếu, min, max của các cột numeric"
   ]
  },
  {
   "cell_type": "code",
   "execution_count": 8,
   "id": "44c6c039",
   "metadata": {},
   "outputs": [
    {
     "data": {
      "text/html": [
       "<div>\n",
       "<style scoped>\n",
       "    .dataframe tbody tr th:only-of-type {\n",
       "        vertical-align: middle;\n",
       "    }\n",
       "\n",
       "    .dataframe tbody tr th {\n",
       "        vertical-align: top;\n",
       "    }\n",
       "\n",
       "    .dataframe thead th {\n",
       "        text-align: right;\n",
       "    }\n",
       "</style>\n",
       "<table border=\"1\" class=\"dataframe\">\n",
       "  <thead>\n",
       "    <tr style=\"text-align: right;\">\n",
       "      <th></th>\n",
       "      <th>Ngu Van</th>\n",
       "      <th>Toan Hoc</th>\n",
       "      <th>Ngoai Ngu</th>\n",
       "      <th>Vat Ly</th>\n",
       "      <th>Hoa Hoc</th>\n",
       "      <th>Sinh Hoc</th>\n",
       "      <th>Lich Su</th>\n",
       "      <th>Dia Ly</th>\n",
       "      <th>GDCD</th>\n",
       "    </tr>\n",
       "  </thead>\n",
       "  <tbody>\n",
       "    <tr>\n",
       "      <th>missing_ratio</th>\n",
       "      <td>1.557305</td>\n",
       "      <td>0.503664</td>\n",
       "      <td>10.265184</td>\n",
       "      <td>64.012362</td>\n",
       "      <td>63.596276</td>\n",
       "      <td>64.131472</td>\n",
       "      <td>33.149186</td>\n",
       "      <td>33.99072</td>\n",
       "      <td>41.99613</td>\n",
       "    </tr>\n",
       "    <tr>\n",
       "      <th>min</th>\n",
       "      <td>0.000000</td>\n",
       "      <td>0.000000</td>\n",
       "      <td>0.000000</td>\n",
       "      <td>0.000000</td>\n",
       "      <td>0.000000</td>\n",
       "      <td>0.000000</td>\n",
       "      <td>0.000000</td>\n",
       "      <td>0.00000</td>\n",
       "      <td>0.00000</td>\n",
       "    </tr>\n",
       "    <tr>\n",
       "      <th>max</th>\n",
       "      <td>9.500000</td>\n",
       "      <td>10.000000</td>\n",
       "      <td>10.000000</td>\n",
       "      <td>10.000000</td>\n",
       "      <td>10.000000</td>\n",
       "      <td>10.000000</td>\n",
       "      <td>10.000000</td>\n",
       "      <td>10.00000</td>\n",
       "      <td>10.00000</td>\n",
       "    </tr>\n",
       "  </tbody>\n",
       "</table>\n",
       "</div>"
      ],
      "text/plain": [
       "                Ngu Van   Toan Hoc  Ngoai Ngu     Vat Ly    Hoa Hoc  \\\n",
       "missing_ratio  1.557305   0.503664  10.265184  64.012362  63.596276   \n",
       "min            0.000000   0.000000   0.000000   0.000000   0.000000   \n",
       "max            9.500000  10.000000  10.000000  10.000000  10.000000   \n",
       "\n",
       "                Sinh Hoc    Lich Su    Dia Ly      GDCD  \n",
       "missing_ratio  64.131472  33.149186  33.99072  41.99613  \n",
       "min             0.000000   0.000000   0.00000   0.00000  \n",
       "max            10.000000  10.000000  10.00000  10.00000  "
      ]
     },
     "execution_count": 8,
     "metadata": {},
     "output_type": "execute_result"
    }
   ],
   "source": [
    "index = ['missing_ratio', 'min', 'max']\n",
    "nume_columns = point_df.drop(columns = [\"Ma Ngoai Ngu\", \"SBD\", \"Unnamed: 0\"]).columns.to_list()\n",
    "nume_col_profile_df = pd.DataFrame(index = index, columns = nume_columns)\n",
    "nume_col_profile_df = nume_col_profile_df.fillna(0)\n",
    "nume_col_profile_df.iloc[0,:] = (point_df[nume_columns[:]].isna().sum() / num_rows_point) *100\n",
    "nume_col_profile_df.iloc[1,:] = point_df[nume_columns[:]].min()\n",
    "nume_col_profile_df.iloc[2,:] = point_df[nume_columns[:]].max()\n",
    "nume_col_profile_df"
   ]
  },
  {
   "cell_type": "markdown",
   "id": "f5a8e3ac",
   "metadata": {},
   "source": [
    "tỉ lệ thiếu các môn tự nhiên"
   ]
  },
  {
   "cell_type": "code",
   "execution_count": 9,
   "id": "4239b755",
   "metadata": {},
   "outputs": [
    {
     "data": {
      "text/plain": [
       "<AxesSubplot:>"
      ]
     },
     "execution_count": 9,
     "metadata": {},
     "output_type": "execute_result"
    },
    {
     "data": {
      "image/png": "[encoded data removed]",
      "text/plain": [
       "<Figure size 432x288 with 1 Axes>"
      ]
     },
     "metadata": {
      "needs_background": "light"
     },
     "output_type": "display_data"
    }
   ],
   "source": [
    "nume_col_profile_df.loc['missing_ratio'].plot.barh()"
   ]
  },
  {
   "cell_type": "code",
   "execution_count": 10,
   "id": "bde50ab3",
   "metadata": {},
   "outputs": [
    {
     "data": {
      "image/png": "[encoded data removed]",
      "text/plain": [
       "<Figure size 432x288 with 1 Axes>"
      ]
     },
     "metadata": {
      "needs_background": "light"
     },
     "output_type": "display_data"
    }
   ],
   "source": [
    "th_series = point_df[\"Toan Hoc\"]\n",
    "th_series.plot.hist(bins=20)\n",
    "plt.xticks(list(range(0, 11,2)) + [round(th_series.mean(),1)])\n",
    "plt.xlabel(\"Toan Hoc\")\n",
    "plt.show()"
   ]
  },
  {
   "cell_type": "code",
   "execution_count": 11,
   "id": "ac91e62a",
   "metadata": {},
   "outputs": [
    {
     "data": {
      "image/png": "[encoded data removed]",
      "text/plain": [
       "<Figure size 432x288 with 1 Axes>"
      ]
     },
     "metadata": {
      "needs_background": "light"
     },
     "output_type": "display_data"
    }
   ],
   "source": [
    "vl_series = point_df[\"Vat Ly\"]\n",
    "vl_series.plot.hist(bins=20)\n",
    "plt.xticks(list(range(0, 11,2)) + [round(vl_series.mean(),1)])\n",
    "plt.xlabel(\"Vat Ly\")\n",
    "plt.show()"
   ]
  },
  {
   "cell_type": "code",
   "execution_count": 12,
   "id": "ecfe9dcf",
   "metadata": {},
   "outputs": [
    {
     "data": {
      "image/png": "[encoded data removed]",
      "text/plain": [
       "<Figure size 432x288 with 1 Axes>"
      ]
     },
     "metadata": {
      "needs_background": "light"
     },
     "output_type": "display_data"
    }
   ],
   "source": [
    "hh_series = point_df[\"Hoa Hoc\"]\n",
    "hh_series.plot.hist(bins=20)\n",
    "plt.xticks(list(range(0, 11,2)) + [round(hh_series.mean(),1)])\n",
    "plt.xlabel(\"Hoa Hoc\")\n",
    "plt.show()"
   ]
  },
  {
   "cell_type": "code",
   "execution_count": 13,
   "id": "26fb64c0",
   "metadata": {},
   "outputs": [
    {
     "data": {
      "image/png": "[encoded data removed]",
      "text/plain": [
       "<Figure size 432x288 with 1 Axes>"
      ]
     },
     "metadata": {
      "needs_background": "light"
     },
     "output_type": "display_data"
    }
   ],
   "source": [
    "sh_series = point_df[\"Sinh Hoc\"]\n",
    "sh_series.plot.hist(bins=20)\n",
    "plt.xticks(list(range(0, 11,2)) + [round(sh_series.mean(),1)])\n",
    "plt.xlabel(\"Sinh Hoc\")\n",
    "plt.show()"
   ]
  },
  {
   "cell_type": "markdown",
   "id": "729a6d74",
   "metadata": {},
   "source": [
    "## câu hỏi 1: phân loại học sinh theo giỏi toàn diện, lệch, trung bình, yếu \n",
    "\n",
    "lợi ích: cho thấy xu hướng chung thường thiên về một số môn hoặc theo hướng toàn diện.\n",
    "\n",
    "Từ đó, điều chỉnh lại cách giảng dạy"
   ]
  },
  {
   "cell_type": "code",
   "execution_count": 14,
   "id": "83b079a4",
   "metadata": {},
   "outputs": [],
   "source": [
    "point_df = point_df.set_index(\"SBD\")\n",
    "point_df[\"Toan Hoc\"] = point_df[\"Toan Hoc\"].replace(np.nan, 0)\n",
    "point_df[\"Ngu Van\"] = point_df[\"Ngu Van\"].replace(np.nan, 0)\n",
    "point_df[\"Ngoai Ngu\"] = point_df[\"Ngoai Ngu\"].replace(np.nan, 0)"
   ]
  },
  {
   "cell_type": "code",
   "execution_count": 15,
   "id": "614de4de",
   "metadata": {},
   "outputs": [],
   "source": [
    "score_df = point_df.drop(columns = [\"Ma Ngoai Ngu\", \"Unnamed: 0\"]).copy()"
   ]
  },
  {
   "cell_type": "markdown",
   "id": "b73c9203",
   "metadata": {},
   "source": [
    "quy định rằng : \n",
    "- giỏi toàn diện: tổng điểm >= 7*số môn thi và điểm max và min cách biệt < 2\n",
    "- lệch: tổng điểm >= số môn thi * 1 cách biệt giữa điểm max và min >= 2\n",
    "- trung bình: tổng điểm >= 4*số môn thi và điểm max và min cách nhau nhỏ hơn 2 điểm\n",
    "- yếu: còn lại"
   ]
  },
  {
   "cell_type": "code",
   "execution_count": 16,
   "id": "5218c70b",
   "metadata": {},
   "outputs": [],
   "source": [
    "sum_score = score_df.sum(axis=1) + 0.05\n",
    "chenh_lech = score_df.max(axis=1) - score_df.min(axis=1) \n",
    "so_mon_thi = score_df.notnull().sum(axis=1)\n",
    "score_df.loc[(sum_score >= 4*so_mon_thi) & (chenh_lech < 2), \"Phan loai\"] = \"Trung Binh\"\n",
    "score_df.loc[(sum_score >= 7*so_mon_thi) & (chenh_lech < 2), \"Phan loai\"] = \"Gioi Toan Dien\"\n",
    "score_df.loc[(sum_score >= so_mon_thi) & (chenh_lech >= 2), \"Phan loai\"] = \"Lech\"\n",
    "score_df.loc[score_df[\"Phan loai\"].isnull(), \"Phan loai\"] = \"Yeu\""
   ]
  },
  {
   "cell_type": "code",
   "execution_count": 17,
   "id": "048474f0",
   "metadata": {},
   "outputs": [
    {
     "data": {
      "text/html": [
       "<div>\n",
       "<style scoped>\n",
       "    .dataframe tbody tr th:only-of-type {\n",
       "        vertical-align: middle;\n",
       "    }\n",
       "\n",
       "    .dataframe tbody tr th {\n",
       "        vertical-align: top;\n",
       "    }\n",
       "\n",
       "    .dataframe thead th {\n",
       "        text-align: right;\n",
       "    }\n",
       "</style>\n",
       "<table border=\"1\" class=\"dataframe\">\n",
       "  <thead>\n",
       "    <tr style=\"text-align: right;\">\n",
       "      <th></th>\n",
       "      <th>Ngu Van</th>\n",
       "      <th>Toan Hoc</th>\n",
       "      <th>Ngoai Ngu</th>\n",
       "      <th>Vat Ly</th>\n",
       "      <th>Hoa Hoc</th>\n",
       "      <th>Sinh Hoc</th>\n",
       "      <th>Lich Su</th>\n",
       "      <th>Dia Ly</th>\n",
       "      <th>GDCD</th>\n",
       "      <th>Phan loai</th>\n",
       "      <th>Max diem</th>\n",
       "      <th>Min diem</th>\n",
       "    </tr>\n",
       "    <tr>\n",
       "      <th>SBD</th>\n",
       "      <th></th>\n",
       "      <th></th>\n",
       "      <th></th>\n",
       "      <th></th>\n",
       "      <th></th>\n",
       "      <th></th>\n",
       "      <th></th>\n",
       "      <th></th>\n",
       "      <th></th>\n",
       "      <th></th>\n",
       "      <th></th>\n",
       "      <th></th>\n",
       "    </tr>\n",
       "  </thead>\n",
       "  <tbody>\n",
       "    <tr>\n",
       "      <th>24008611</th>\n",
       "      <td>8.00</td>\n",
       "      <td>8.2</td>\n",
       "      <td>7.6</td>\n",
       "      <td>NaN</td>\n",
       "      <td>NaN</td>\n",
       "      <td>NaN</td>\n",
       "      <td>8.25</td>\n",
       "      <td>7.75</td>\n",
       "      <td>8.75</td>\n",
       "      <td>Gioi Toan Dien</td>\n",
       "      <td>GDCD</td>\n",
       "      <td>Ngoai Ngu</td>\n",
       "    </tr>\n",
       "    <tr>\n",
       "      <th>51000032</th>\n",
       "      <td>6.17</td>\n",
       "      <td>8.6</td>\n",
       "      <td>8.0</td>\n",
       "      <td>8.25</td>\n",
       "      <td>4.5</td>\n",
       "      <td>6.00</td>\n",
       "      <td>NaN</td>\n",
       "      <td>NaN</td>\n",
       "      <td>NaN</td>\n",
       "      <td>Lech</td>\n",
       "      <td>Toan Hoc</td>\n",
       "      <td>Hoa Hoc</td>\n",
       "    </tr>\n",
       "    <tr>\n",
       "      <th>51000005</th>\n",
       "      <td>4.75</td>\n",
       "      <td>5.2</td>\n",
       "      <td>0.0</td>\n",
       "      <td>NaN</td>\n",
       "      <td>NaN</td>\n",
       "      <td>NaN</td>\n",
       "      <td>4.00</td>\n",
       "      <td>4.25</td>\n",
       "      <td>5.75</td>\n",
       "      <td>Lech</td>\n",
       "      <td>GDCD</td>\n",
       "      <td>Ngoai Ngu</td>\n",
       "    </tr>\n",
       "    <tr>\n",
       "      <th>51000021</th>\n",
       "      <td>4.50</td>\n",
       "      <td>4.4</td>\n",
       "      <td>0.0</td>\n",
       "      <td>NaN</td>\n",
       "      <td>NaN</td>\n",
       "      <td>NaN</td>\n",
       "      <td>2.25</td>\n",
       "      <td>4.75</td>\n",
       "      <td>5.00</td>\n",
       "      <td>Lech</td>\n",
       "      <td>GDCD</td>\n",
       "      <td>Ngoai Ngu</td>\n",
       "    </tr>\n",
       "    <tr>\n",
       "      <th>51000013</th>\n",
       "      <td>6.00</td>\n",
       "      <td>5.8</td>\n",
       "      <td>4.4</td>\n",
       "      <td>NaN</td>\n",
       "      <td>NaN</td>\n",
       "      <td>NaN</td>\n",
       "      <td>7.75</td>\n",
       "      <td>8.25</td>\n",
       "      <td>7.50</td>\n",
       "      <td>Lech</td>\n",
       "      <td>Dia Ly</td>\n",
       "      <td>Ngoai Ngu</td>\n",
       "    </tr>\n",
       "    <tr>\n",
       "      <th>...</th>\n",
       "      <td>...</td>\n",
       "      <td>...</td>\n",
       "      <td>...</td>\n",
       "      <td>...</td>\n",
       "      <td>...</td>\n",
       "      <td>...</td>\n",
       "      <td>...</td>\n",
       "      <td>...</td>\n",
       "      <td>...</td>\n",
       "      <td>...</td>\n",
       "      <td>...</td>\n",
       "      <td>...</td>\n",
       "    </tr>\n",
       "    <tr>\n",
       "      <th>26019104</th>\n",
       "      <td>4.75</td>\n",
       "      <td>4.4</td>\n",
       "      <td>3.4</td>\n",
       "      <td>NaN</td>\n",
       "      <td>NaN</td>\n",
       "      <td>NaN</td>\n",
       "      <td>4.50</td>\n",
       "      <td>5.75</td>\n",
       "      <td>8.50</td>\n",
       "      <td>Lech</td>\n",
       "      <td>GDCD</td>\n",
       "      <td>Ngoai Ngu</td>\n",
       "    </tr>\n",
       "    <tr>\n",
       "      <th>26019102</th>\n",
       "      <td>6.25</td>\n",
       "      <td>5.2</td>\n",
       "      <td>4.4</td>\n",
       "      <td>3.75</td>\n",
       "      <td>4.5</td>\n",
       "      <td>4.00</td>\n",
       "      <td>NaN</td>\n",
       "      <td>NaN</td>\n",
       "      <td>NaN</td>\n",
       "      <td>Lech</td>\n",
       "      <td>Ngu Van</td>\n",
       "      <td>Vat Ly</td>\n",
       "    </tr>\n",
       "    <tr>\n",
       "      <th>26019099</th>\n",
       "      <td>5.00</td>\n",
       "      <td>2.8</td>\n",
       "      <td>2.8</td>\n",
       "      <td>NaN</td>\n",
       "      <td>NaN</td>\n",
       "      <td>NaN</td>\n",
       "      <td>5.50</td>\n",
       "      <td>5.50</td>\n",
       "      <td>8.00</td>\n",
       "      <td>Lech</td>\n",
       "      <td>GDCD</td>\n",
       "      <td>Toan Hoc</td>\n",
       "    </tr>\n",
       "    <tr>\n",
       "      <th>26019101</th>\n",
       "      <td>7.25</td>\n",
       "      <td>6.2</td>\n",
       "      <td>4.0</td>\n",
       "      <td>NaN</td>\n",
       "      <td>NaN</td>\n",
       "      <td>NaN</td>\n",
       "      <td>3.50</td>\n",
       "      <td>6.75</td>\n",
       "      <td>8.50</td>\n",
       "      <td>Lech</td>\n",
       "      <td>GDCD</td>\n",
       "      <td>Lich Su</td>\n",
       "    </tr>\n",
       "    <tr>\n",
       "      <th>26019097</th>\n",
       "      <td>5.75</td>\n",
       "      <td>6.4</td>\n",
       "      <td>2.2</td>\n",
       "      <td>5.25</td>\n",
       "      <td>4.5</td>\n",
       "      <td>3.75</td>\n",
       "      <td>NaN</td>\n",
       "      <td>NaN</td>\n",
       "      <td>NaN</td>\n",
       "      <td>Lech</td>\n",
       "      <td>Toan Hoc</td>\n",
       "      <td>Ngoai Ngu</td>\n",
       "    </tr>\n",
       "  </tbody>\n",
       "</table>\n",
       "<p>811851 rows × 12 columns</p>\n",
       "</div>"
      ],
      "text/plain": [
       "          Ngu Van  Toan Hoc  Ngoai Ngu  Vat Ly  Hoa Hoc  Sinh Hoc  Lich Su  \\\n",
       "SBD                                                                          \n",
       "24008611     8.00       8.2        7.6     NaN      NaN       NaN     8.25   \n",
       "51000032     6.17       8.6        8.0    8.25      4.5      6.00      NaN   \n",
       "51000005     4.75       5.2        0.0     NaN      NaN       NaN     4.00   \n",
       "51000021     4.50       4.4        0.0     NaN      NaN       NaN     2.25   \n",
       "51000013     6.00       5.8        4.4     NaN      NaN       NaN     7.75   \n",
       "...           ...       ...        ...     ...      ...       ...      ...   \n",
       "26019104     4.75       4.4        3.4     NaN      NaN       NaN     4.50   \n",
       "26019102     6.25       5.2        4.4    3.75      4.5      4.00      NaN   \n",
       "26019099     5.00       2.8        2.8     NaN      NaN       NaN     5.50   \n",
       "26019101     7.25       6.2        4.0     NaN      NaN       NaN     3.50   \n",
       "26019097     5.75       6.4        2.2    5.25      4.5      3.75      NaN   \n",
       "\n",
       "          Dia Ly  GDCD       Phan loai  Max diem   Min diem  \n",
       "SBD                                                          \n",
       "24008611    7.75  8.75  Gioi Toan Dien      GDCD  Ngoai Ngu  \n",
       "51000032     NaN   NaN            Lech  Toan Hoc    Hoa Hoc  \n",
       "51000005    4.25  5.75            Lech      GDCD  Ngoai Ngu  \n",
       "51000021    4.75  5.00            Lech      GDCD  Ngoai Ngu  \n",
       "51000013    8.25  7.50            Lech    Dia Ly  Ngoai Ngu  \n",
       "...          ...   ...             ...       ...        ...  \n",
       "26019104    5.75  8.50            Lech      GDCD  Ngoai Ngu  \n",
       "26019102     NaN   NaN            Lech   Ngu Van     Vat Ly  \n",
       "26019099    5.50  8.00            Lech      GDCD   Toan Hoc  \n",
       "26019101    6.75  8.50            Lech      GDCD    Lich Su  \n",
       "26019097     NaN   NaN            Lech  Toan Hoc  Ngoai Ngu  \n",
       "\n",
       "[811851 rows x 12 columns]"
      ]
     },
     "execution_count": 17,
     "metadata": {},
     "output_type": "execute_result"
    }
   ],
   "source": [
    "score_df[\"Max diem\"] = score_df.drop(columns = [\"Phan loai\"]).idxmax(axis = 1)\n",
    "score_df[\"Min diem\"] = score_df.drop(columns = [\"Phan loai\", \"Max diem\"]).idxmin(axis = 1)\n",
    "score_df"
   ]
  },
  {
   "cell_type": "markdown",
   "id": "85058d13",
   "metadata": {},
   "source": [
    "ta thấy tỉ lệ các học sinh học lệch là lớn nhất (khoảng 97%) còn học sinh Yeu, Trung binh và Gioi toan dien lần lượt là 4%, 2.2% và 0.34%. Như vậy, phần lớn các học sinh thường thiên về một số môn nhất định hơn là học dàn đều các môn"
   ]
  },
  {
   "cell_type": "code",
   "execution_count": 18,
   "id": "df3a0cce",
   "metadata": {},
   "outputs": [
    {
     "data": {
      "image/png": "[encoded data removed]",
      "text/plain": [
       "<Figure size 576x576 with 1 Axes>"
      ]
     },
     "metadata": {},
     "output_type": "display_data"
    }
   ],
   "source": [
    "score_df[\"Phan loai\"].value_counts().plot.pie(figsize=(8, 8), autopct=lambda x: str(round(x, 2)) + \"%\")\n",
    "plt.title(\"tỉ lệ các loại hoc sinh\")\n",
    "plt.show()"
   ]
  },
  {
   "cell_type": "code",
   "execution_count": 19,
   "id": "54c2fb7f",
   "metadata": {},
   "outputs": [
    {
     "data": {
      "text/plain": [
       "Lech              786454\n",
       "Trung Binh         17504\n",
       "Yeu                 4657\n",
       "Gioi Toan Dien      3236\n",
       "Name: Phan loai, dtype: int64"
      ]
     },
     "execution_count": 19,
     "metadata": {},
     "output_type": "execute_result"
    }
   ],
   "source": [
    "score_df[\"Phan loai\"].value_counts()"
   ]
  },
  {
   "cell_type": "code",
   "execution_count": 32,
   "id": "4975a788",
   "metadata": {},
   "outputs": [
    {
     "data": {
      "text/plain": [
       "GDCD         347197\n",
       "Toan Hoc     177220\n",
       "Dia Ly        94444\n",
       "Ngu Van       75476\n",
       "Ngoai Ngu     34234\n",
       "Vat Ly        21292\n",
       "Hoa Hoc       16266\n",
       "Lich Su       13326\n",
       "Sinh Hoc       6999\n",
       "Name: Max diem, dtype: int64"
      ]
     },
     "execution_count": 32,
     "metadata": {},
     "output_type": "execute_result"
    }
   ],
   "source": [
    "score_df.loc[score_df[\"Phan loai\"] == \"Lech\", \"Max diem\"].value_counts()"
   ]
  },
  {
   "cell_type": "code",
   "execution_count": 31,
   "id": "d71efc56",
   "metadata": {},
   "outputs": [
    {
     "data": {
      "text/plain": [
       "Ngoai Ngu    412016\n",
       "Lich Su      131239\n",
       "Sinh Hoc      69858\n",
       "Ngu Van       51184\n",
       "Toan Hoc      50498\n",
       "Hoa Hoc       38589\n",
       "Vat Ly        30103\n",
       "Dia Ly         2769\n",
       "GDCD            198\n",
       "Name: Min diem, dtype: int64"
      ]
     },
     "execution_count": 31,
     "metadata": {},
     "output_type": "execute_result"
    }
   ],
   "source": [
    "score_df.loc[score_df[\"Phan loai\"] == \"Lech\", \"Min diem\"].value_counts()"
   ]
  },
  {
   "cell_type": "code",
   "execution_count": 36,
   "id": "3773a62b",
   "metadata": {},
   "outputs": [
    {
     "data": {
      "image/png": "[encoded data removed]",
      "text/plain": [
       "<Figure size 576x576 with 1 Axes>"
      ]
     },
     "metadata": {},
     "output_type": "display_data"
    }
   ],
   "source": [
    "score_df.loc[score_df[\"Phan loai\"] == \"Lech\", \"Max diem\"].value_counts().plot.pie(figsize=(8,8), autopct=lambda x: str(round(x, 2)) + \"%\")\n",
    "plt.title(\"tỷ lệ các môn bị lệch có điểm cao nhất\")\n",
    "plt.show()"
   ]
  },
  {
   "cell_type": "code",
   "execution_count": 38,
   "id": "7a9f858d",
   "metadata": {},
   "outputs": [
    {
     "data": {
      "image/png": "[encoded data removed]",
      "text/plain": [
       "<Figure size 576x576 with 1 Axes>"
      ]
     },
     "metadata": {},
     "output_type": "display_data"
    }
   ],
   "source": [
    "score_df.loc[score_df[\"Phan loai\"] == \"Lech\", \"Min diem\"].value_counts().plot.pie(figsize=(8,8), autopct=lambda x: str(round(x, 2)) + \"%\")\n",
    "plt.title(\"tỷ lệ các môn bị lệch có điểm thấp\")\n",
    "plt.show()"
   ]
  },
  {
   "cell_type": "markdown",
   "id": "700941ee",
   "metadata": {},
   "source": [
    "- Như ở trên, ta thấy các môn mà học sinh thường tập trung thì GDCD, Toán, Địa, Văn là những môn có nhiều điểm cao nhất, khác biệt rõ so với phần còn lai. Là do môn đó quá dễ hoặc là học sinh đã có chuẩn bị ?\n",
    "- và trong số các môn có nhiều điểm thấp nhất là Ngoại ngữ, 1 trong 3 môn bắt buộc. Như vậy, có thể nói môn có độ khó cao hoặc là các thí sinh không tập trung chuẩn bị vào môn này."
   ]
  },
  {
   "cell_type": "code",
   "execution_count": null,
   "id": "8034aaa6",
   "metadata": {},
   "outputs": [],
   "source": []
  }
 ],
 "metadata": {
  "kernelspec": {
   "display_name": "Python 3",
   "language": "python",
   "name": "python3"
  },
  "language_info": {
   "codemirror_mode": {
    "name": "ipython",
    "version": 3
   },
   "file_extension": ".py",
   "mimetype": "text/x-python",
   "name": "python",
   "nbconvert_exporter": "python",
   "pygments_lexer": "ipython3",
   "version": "3.8.8"
  }
 },
 "nbformat": 4,
 "nbformat_minor": 5
}
