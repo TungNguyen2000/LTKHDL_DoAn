{
 "cells": [
  {
   "cell_type": "markdown",
   "id": "373d2760",
   "metadata": {},
   "source": [
    "## Phân tích dữ liệu các môn Khoa học Xã hội"
   ]
  },
  {
   "cell_type": "code",
   "execution_count": 1,
   "id": "d83f0b34",
   "metadata": {},
   "outputs": [
    {
     "name": "stdout",
     "output_type": "stream",
     "text": [
      "/d/miniconda3/envs/p4ds-env/python\n"
     ]
    }
   ],
   "source": [
    "!which python "
   ]
  },
  {
   "cell_type": "code",
   "execution_count": 1,
   "id": "68b3b347",
   "metadata": {},
   "outputs": [],
   "source": [
    "import pandas as pd\n",
    "import matplotlib.pyplot as plt\n",
    "import numpy as np"
   ]
  },
  {
   "cell_type": "code",
   "execution_count": 15,
   "id": "fddf3edb",
   "metadata": {},
   "outputs": [
    {
     "data": {
      "text/html": [
       "<div>\n",
       "<style scoped>\n",
       "    .dataframe tbody tr th:only-of-type {\n",
       "        vertical-align: middle;\n",
       "    }\n",
       "\n",
       "    .dataframe tbody tr th {\n",
       "        vertical-align: top;\n",
       "    }\n",
       "\n",
       "    .dataframe thead th {\n",
       "        text-align: right;\n",
       "    }\n",
       "</style>\n",
       "<table border=\"1\" class=\"dataframe\">\n",
       "  <thead>\n",
       "    <tr style=\"text-align: right;\">\n",
       "      <th></th>\n",
       "      <th>SBD</th>\n",
       "      <th>Ngu Van</th>\n",
       "      <th>Toan Hoc</th>\n",
       "      <th>Ma Ngoai Ngu</th>\n",
       "      <th>Ngoai Ngu</th>\n",
       "      <th>Vat Ly</th>\n",
       "      <th>Hoa Hoc</th>\n",
       "      <th>Sinh Hoc</th>\n",
       "      <th>Lich Su</th>\n",
       "      <th>Dia Ly</th>\n",
       "      <th>GDCD</th>\n",
       "    </tr>\n",
       "  </thead>\n",
       "  <tbody>\n",
       "    <tr>\n",
       "      <th>0</th>\n",
       "      <td>24008611</td>\n",
       "      <td>8.00</td>\n",
       "      <td>8.2</td>\n",
       "      <td>N1</td>\n",
       "      <td>7.6</td>\n",
       "      <td>NaN</td>\n",
       "      <td>NaN</td>\n",
       "      <td>NaN</td>\n",
       "      <td>8.25</td>\n",
       "      <td>7.75</td>\n",
       "      <td>8.75</td>\n",
       "    </tr>\n",
       "    <tr>\n",
       "      <th>1</th>\n",
       "      <td>51000032</td>\n",
       "      <td>6.17</td>\n",
       "      <td>8.6</td>\n",
       "      <td>N1</td>\n",
       "      <td>8.0</td>\n",
       "      <td>8.25</td>\n",
       "      <td>4.5</td>\n",
       "      <td>6.0</td>\n",
       "      <td>NaN</td>\n",
       "      <td>NaN</td>\n",
       "      <td>NaN</td>\n",
       "    </tr>\n",
       "    <tr>\n",
       "      <th>2</th>\n",
       "      <td>51000005</td>\n",
       "      <td>4.75</td>\n",
       "      <td>5.2</td>\n",
       "      <td>NaN</td>\n",
       "      <td>NaN</td>\n",
       "      <td>NaN</td>\n",
       "      <td>NaN</td>\n",
       "      <td>NaN</td>\n",
       "      <td>4.00</td>\n",
       "      <td>4.25</td>\n",
       "      <td>5.75</td>\n",
       "    </tr>\n",
       "    <tr>\n",
       "      <th>3</th>\n",
       "      <td>51000021</td>\n",
       "      <td>4.50</td>\n",
       "      <td>4.4</td>\n",
       "      <td>NaN</td>\n",
       "      <td>NaN</td>\n",
       "      <td>NaN</td>\n",
       "      <td>NaN</td>\n",
       "      <td>NaN</td>\n",
       "      <td>2.25</td>\n",
       "      <td>4.75</td>\n",
       "      <td>5.00</td>\n",
       "    </tr>\n",
       "    <tr>\n",
       "      <th>4</th>\n",
       "      <td>51000013</td>\n",
       "      <td>6.00</td>\n",
       "      <td>5.8</td>\n",
       "      <td>N1</td>\n",
       "      <td>4.4</td>\n",
       "      <td>NaN</td>\n",
       "      <td>NaN</td>\n",
       "      <td>NaN</td>\n",
       "      <td>7.75</td>\n",
       "      <td>8.25</td>\n",
       "      <td>7.50</td>\n",
       "    </tr>\n",
       "  </tbody>\n",
       "</table>\n",
       "</div>"
      ],
      "text/plain": [
       "        SBD  Ngu Van  Toan Hoc Ma Ngoai Ngu  Ngoai Ngu  Vat Ly  Hoa Hoc  \\\n",
       "0  24008611     8.00       8.2           N1        7.6     NaN      NaN   \n",
       "1  51000032     6.17       8.6           N1        8.0    8.25      4.5   \n",
       "2  51000005     4.75       5.2          NaN        NaN     NaN      NaN   \n",
       "3  51000021     4.50       4.4          NaN        NaN     NaN      NaN   \n",
       "4  51000013     6.00       5.8           N1        4.4     NaN      NaN   \n",
       "\n",
       "   Sinh Hoc  Lich Su  Dia Ly  GDCD  \n",
       "0       NaN     8.25    7.75  8.75  \n",
       "1       6.0      NaN     NaN   NaN  \n",
       "2       NaN     4.00    4.25  5.75  \n",
       "3       NaN     2.25    4.75  5.00  \n",
       "4       NaN     7.75    8.25  7.50  "
      ]
     },
     "execution_count": 15,
     "metadata": {},
     "output_type": "execute_result"
    }
   ],
   "source": [
    "df = pd.read_csv('diemthi2019_update.csv').drop(columns=\"Unnamed: 0\")\n",
    "df.head()"
   ]
  },
  {
   "cell_type": "markdown",
   "id": "883ec43a",
   "metadata": {},
   "source": [
    "### Dữ liệu có bao nhiêu dòng và bao nhiêu cột\n",
    "\n",
    "Dữ liệu có 811,851 dòng và 11 cột. Mỗi dòng là một học sinh với điểm thi THPT tương ứng"
   ]
  },
  {
   "cell_type": "code",
   "execution_count": 16,
   "id": "605d3646",
   "metadata": {},
   "outputs": [
    {
     "name": "stdout",
     "output_type": "stream",
     "text": [
      "Rows: 811851\n",
      "Cols: 11\n"
     ]
    }
   ],
   "source": [
    "print(\"Rows:\", df.shape[0])\n",
    "print(\"Cols:\", df.shape[1])"
   ]
  },
  {
   "cell_type": "markdown",
   "id": "74034247",
   "metadata": {},
   "source": [
    "### Dữ liệu có các dòng bị lặp không?\n",
    "\n",
    "Các dòng không có dữ liệu bị lặp dựa trên Số Báo Danh"
   ]
  },
  {
   "cell_type": "code",
   "execution_count": 26,
   "id": "2a6139fc",
   "metadata": {},
   "outputs": [
    {
     "name": "stdout",
     "output_type": "stream",
     "text": [
      "No. duplicate: 0\n"
     ]
    },
    {
     "data": {
      "text/html": [
       "<div>\n",
       "<style scoped>\n",
       "    .dataframe tbody tr th:only-of-type {\n",
       "        vertical-align: middle;\n",
       "    }\n",
       "\n",
       "    .dataframe tbody tr th {\n",
       "        vertical-align: top;\n",
       "    }\n",
       "\n",
       "    .dataframe thead th {\n",
       "        text-align: right;\n",
       "    }\n",
       "</style>\n",
       "<table border=\"1\" class=\"dataframe\">\n",
       "  <thead>\n",
       "    <tr style=\"text-align: right;\">\n",
       "      <th></th>\n",
       "      <th>SBD</th>\n",
       "      <th>Ngu Van</th>\n",
       "      <th>Toan Hoc</th>\n",
       "      <th>Ma Ngoai Ngu</th>\n",
       "      <th>Ngoai Ngu</th>\n",
       "      <th>Vat Ly</th>\n",
       "      <th>Hoa Hoc</th>\n",
       "      <th>Sinh Hoc</th>\n",
       "      <th>Lich Su</th>\n",
       "      <th>Dia Ly</th>\n",
       "      <th>GDCD</th>\n",
       "    </tr>\n",
       "  </thead>\n",
       "  <tbody>\n",
       "  </tbody>\n",
       "</table>\n",
       "</div>"
      ],
      "text/plain": [
       "Empty DataFrame\n",
       "Columns: [SBD, Ngu Van, Toan Hoc, Ma Ngoai Ngu, Ngoai Ngu, Vat Ly, Hoa Hoc, Sinh Hoc, Lich Su, Dia Ly, GDCD]\n",
       "Index: []"
      ]
     },
     "execution_count": 26,
     "metadata": {},
     "output_type": "execute_result"
    }
   ],
   "source": [
    "id_duplicated = df[df.duplicated(['SBD'], keep=False)]\n",
    "print(\"No. duplicate:\", len(id_duplicated))\n",
    "id_duplicated"
   ]
  },
  {
   "cell_type": "markdown",
   "id": "c7cb57eb",
   "metadata": {},
   "source": [
    "### Mỗi cột có ý nghĩa gì?\n",
    "\n",
    "Ta có 11 cột bao gồm:\n",
    "* SBD: Số báo danh của học sinh trong kỳ thi\n",
    "* Ngu Van: Điểm môn thi Ngữ Văn\n",
    "* Toan Hoc: Điểm môn thi Toán Học\n",
    "* Ma Ngoai Ngu: Mã đối với các môn thi Ngoại Ngữ trong đó:\n",
    "    - N1: Tiếng Anh\n",
    "    - N2: Tiếng Nga\n",
    "    - N3: Tiếng Pháp\n",
    "    - N4: Tiếng Trung\n",
    "    - N5: Tiếng Đức\n",
    "    - N6: Tiếng Nhật\n",
    "* Ngoai Ngu: Điểm môn thi Ngoại Ngữ\n",
    "* Vat Ly: Điểm môn thi Vật Lý\n",
    "* Hoa Hoc: Điểm môn thi Hóa Học\n",
    "* Sinh Hoc: Điểm môn thi Sinh Học\n",
    "* Lich Su: Điểm môn thi Lịch Sử\n",
    "* Dia Ly: Điểm môn thi Địa Lý\n",
    "* GDCD: Điểm môn thi GDCD"
   ]
  },
  {
   "cell_type": "markdown",
   "id": "ef05e828",
   "metadata": {},
   "source": [
    "### Mỗi cột hiện đang có kiểu dữ liệu gì? Có cột nào có kiểu dữ liệu chưa phù hợp để có thể xử lý tiếp không?\n",
    "\n",
    "Các cột điểm thi đều có kiểu dữ liệu `float64`. Riêng cột `SBD` là `int64` và `Ma Ngoai Ngu` là `string`. Đây là các kiểu dữ liệu phù hợp để xử lý."
   ]
  },
  {
   "cell_type": "code",
   "execution_count": 28,
   "id": "57911d80",
   "metadata": {},
   "outputs": [
    {
     "data": {
      "text/plain": [
       "SBD               int64\n",
       "Ngu Van         float64\n",
       "Toan Hoc        float64\n",
       "Ma Ngoai Ngu     object\n",
       "Ngoai Ngu       float64\n",
       "Vat Ly          float64\n",
       "Hoa Hoc         float64\n",
       "Sinh Hoc        float64\n",
       "Lich Su         float64\n",
       "Dia Ly          float64\n",
       "GDCD            float64\n",
       "dtype: object"
      ]
     },
     "execution_count": 28,
     "metadata": {},
     "output_type": "execute_result"
    }
   ],
   "source": [
    "df.dtypes"
   ]
  },
  {
   "cell_type": "markdown",
   "id": "09971fb1",
   "metadata": {},
   "source": [
    "### Với mỗi cột có kiểu dữ liệu dạng số (numeric), các giá trị được phân bố như thế nào?"
   ]
  },
  {
   "cell_type": "code",
   "execution_count": 29,
   "id": "58fc1975",
   "metadata": {},
   "outputs": [],
   "source": [
    "df = df.set_index(\"SBD\")"
   ]
  },
  {
   "cell_type": "markdown",
   "id": "fc08144d",
   "metadata": {},
   "source": [
    "#### Giá trị min/max của các cột\n",
    "\n",
    "Ta có thể thấy, tất cả các cột số (các cột điểm thi môn học) đều có giá trị nhỏ nhất là 0 điểm và giá trị lớn nhất là 10 điểm (riêng môn Ngữ Văn không có điểm 10 mà chỉ đến 9.5). Vậy tức là dù ở môn nào, vẫn có học sinh bị điểm 0?"
   ]
  },
  {
   "cell_type": "code",
   "execution_count": 3,
   "id": "e26e4993",
   "metadata": {},
   "outputs": [
    {
     "data": {
      "text/html": [
       "<div>\n",
       "<style scoped>\n",
       "    .dataframe tbody tr th:only-of-type {\n",
       "        vertical-align: middle;\n",
       "    }\n",
       "\n",
       "    .dataframe tbody tr th {\n",
       "        vertical-align: top;\n",
       "    }\n",
       "\n",
       "    .dataframe thead th {\n",
       "        text-align: right;\n",
       "    }\n",
       "</style>\n",
       "<table border=\"1\" class=\"dataframe\">\n",
       "  <thead>\n",
       "    <tr style=\"text-align: right;\">\n",
       "      <th></th>\n",
       "      <th>Ngu Van</th>\n",
       "      <th>Toan Hoc</th>\n",
       "      <th>Ngoai Ngu</th>\n",
       "      <th>Vat Ly</th>\n",
       "      <th>Hoa Hoc</th>\n",
       "      <th>Sinh Hoc</th>\n",
       "      <th>Lich Su</th>\n",
       "      <th>Dia Ly</th>\n",
       "      <th>GDCD</th>\n",
       "    </tr>\n",
       "  </thead>\n",
       "  <tbody>\n",
       "    <tr>\n",
       "      <th>count</th>\n",
       "      <td>799208.000000</td>\n",
       "      <td>807762.000000</td>\n",
       "      <td>728513.000000</td>\n",
       "      <td>292166.000000</td>\n",
       "      <td>295544.000000</td>\n",
       "      <td>291199.000000</td>\n",
       "      <td>542729.000000</td>\n",
       "      <td>535897.000000</td>\n",
       "      <td>470905.000000</td>\n",
       "    </tr>\n",
       "    <tr>\n",
       "      <th>mean</th>\n",
       "      <td>5.442390</td>\n",
       "      <td>5.573748</td>\n",
       "      <td>4.240692</td>\n",
       "      <td>5.563926</td>\n",
       "      <td>5.342898</td>\n",
       "      <td>4.665719</td>\n",
       "      <td>4.293683</td>\n",
       "      <td>5.988069</td>\n",
       "      <td>7.353802</td>\n",
       "    </tr>\n",
       "    <tr>\n",
       "      <th>std</th>\n",
       "      <td>1.353822</td>\n",
       "      <td>1.758361</td>\n",
       "      <td>1.750507</td>\n",
       "      <td>1.619208</td>\n",
       "      <td>1.594621</td>\n",
       "      <td>1.247124</td>\n",
       "      <td>1.439408</td>\n",
       "      <td>1.232252</td>\n",
       "      <td>1.270562</td>\n",
       "    </tr>\n",
       "    <tr>\n",
       "      <th>min</th>\n",
       "      <td>0.000000</td>\n",
       "      <td>0.000000</td>\n",
       "      <td>0.000000</td>\n",
       "      <td>0.000000</td>\n",
       "      <td>0.000000</td>\n",
       "      <td>0.000000</td>\n",
       "      <td>0.000000</td>\n",
       "      <td>0.000000</td>\n",
       "      <td>0.000000</td>\n",
       "    </tr>\n",
       "    <tr>\n",
       "      <th>25%</th>\n",
       "      <td>4.670000</td>\n",
       "      <td>4.200000</td>\n",
       "      <td>3.000000</td>\n",
       "      <td>4.500000</td>\n",
       "      <td>4.250000</td>\n",
       "      <td>3.750000</td>\n",
       "      <td>3.250000</td>\n",
       "      <td>5.250000</td>\n",
       "      <td>6.500000</td>\n",
       "    </tr>\n",
       "    <tr>\n",
       "      <th>50%</th>\n",
       "      <td>5.500000</td>\n",
       "      <td>5.600000</td>\n",
       "      <td>3.800000</td>\n",
       "      <td>5.750000</td>\n",
       "      <td>5.500000</td>\n",
       "      <td>4.500000</td>\n",
       "      <td>4.000000</td>\n",
       "      <td>6.000000</td>\n",
       "      <td>7.500000</td>\n",
       "    </tr>\n",
       "    <tr>\n",
       "      <th>75%</th>\n",
       "      <td>6.500000</td>\n",
       "      <td>7.000000</td>\n",
       "      <td>5.200000</td>\n",
       "      <td>6.750000</td>\n",
       "      <td>6.500000</td>\n",
       "      <td>5.250000</td>\n",
       "      <td>5.000000</td>\n",
       "      <td>6.750000</td>\n",
       "      <td>8.250000</td>\n",
       "    </tr>\n",
       "    <tr>\n",
       "      <th>max</th>\n",
       "      <td>9.500000</td>\n",
       "      <td>10.000000</td>\n",
       "      <td>10.000000</td>\n",
       "      <td>10.000000</td>\n",
       "      <td>10.000000</td>\n",
       "      <td>10.000000</td>\n",
       "      <td>10.000000</td>\n",
       "      <td>10.000000</td>\n",
       "      <td>10.000000</td>\n",
       "    </tr>\n",
       "  </tbody>\n",
       "</table>\n",
       "</div>"
      ],
      "text/plain": [
       "             Ngu Van       Toan Hoc      Ngoai Ngu         Vat Ly  \\\n",
       "count  799208.000000  807762.000000  728513.000000  292166.000000   \n",
       "mean        5.442390       5.573748       4.240692       5.563926   \n",
       "std         1.353822       1.758361       1.750507       1.619208   \n",
       "min         0.000000       0.000000       0.000000       0.000000   \n",
       "25%         4.670000       4.200000       3.000000       4.500000   \n",
       "50%         5.500000       5.600000       3.800000       5.750000   \n",
       "75%         6.500000       7.000000       5.200000       6.750000   \n",
       "max         9.500000      10.000000      10.000000      10.000000   \n",
       "\n",
       "             Hoa Hoc       Sinh Hoc        Lich Su         Dia Ly  \\\n",
       "count  295544.000000  291199.000000  542729.000000  535897.000000   \n",
       "mean        5.342898       4.665719       4.293683       5.988069   \n",
       "std         1.594621       1.247124       1.439408       1.232252   \n",
       "min         0.000000       0.000000       0.000000       0.000000   \n",
       "25%         4.250000       3.750000       3.250000       5.250000   \n",
       "50%         5.500000       4.500000       4.000000       6.000000   \n",
       "75%         6.500000       5.250000       5.000000       6.750000   \n",
       "max        10.000000      10.000000      10.000000      10.000000   \n",
       "\n",
       "                GDCD  \n",
       "count  470905.000000  \n",
       "mean        7.353802  \n",
       "std         1.270562  \n",
       "min         0.000000  \n",
       "25%         6.500000  \n",
       "50%         7.500000  \n",
       "75%         8.250000  \n",
       "max        10.000000  "
      ]
     },
     "execution_count": 3,
     "metadata": {},
     "output_type": "execute_result"
    }
   ],
   "source": [
    "df.describe()"
   ]
  },
  {
   "cell_type": "markdown",
   "id": "58b7ce73",
   "metadata": {},
   "source": [
    "#### Tỷ lệ giá trị thiếu của các cột điểm thi và mã ngoại ngữ\n",
    "\n",
    "Ta có thể thấy các môn có tỉ lệ các giá trị thiếu ít nhất là các môn bắt buộc Toán, Ngữ văn và Ngoại Ngữ.\n",
    "\n",
    "Nhóm môn Xã Hội nhìn chung có tỉ lệ giá trị thiếu (30%-40%) ít hơn nhóm môn Tự Nhiên (~65%)\n",
    "\n",
    "Điều này làm ta tự hỏi:\n",
    "* Tại sao các môn Tự Nhiên lại có tỷ lệ thiếu cao như vậy\n",
    "* Liệu một học sinh có thể không tham gia thi cả hai nhóm môn Xã Hội và Tự nhiên?\n",
    "* Có bao nhiêu học sinh bỏ thi hoàn toàn? Hoặc chỉ thi 1 hoặc 2 môn"
   ]
  },
  {
   "cell_type": "code",
   "execution_count": 30,
   "id": "f76ea7b3",
   "metadata": {},
   "outputs": [
    {
     "data": {
      "image/png": "[encoded data removed]",
      "text/plain": [
       "<Figure size 432x288 with 1 Axes>"
      ]
     },
     "metadata": {
      "needs_background": "light"
     },
     "output_type": "display_data"
    }
   ],
   "source": [
    "def missing_ratio(x):\n",
    "    return round(x.isnull().sum()/len(x) * 100, 2)\n",
    "df.agg(missing_ratio).plot.barh()\n",
    "plt.xlabel(\"Tỷ lệ % dữ liệu thiếu\")\n",
    "plt.show()"
   ]
  },
  {
   "cell_type": "code",
   "execution_count": 5,
   "id": "d5479a61",
   "metadata": {},
   "outputs": [
    {
     "data": {
      "image/png": "[encoded data removed]",
      "text/plain": [
       "<Figure size 432x288 with 1 Axes>"
      ]
     },
     "metadata": {
      "needs_background": "light"
     },
     "output_type": "display_data"
    }
   ],
   "source": [
    "nv_series = df[\"Ngu Van\"]\n",
    "nv_series.plot.hist(bins=20)\n",
    "plt.axvline(x=nv_series.mean(), color='r', label=\"trung bình\")\n",
    "plt.xticks(list(range(0, 11,2)) + [round(nv_series.mean(),1)])\n",
    "plt.legend()\n",
    "plt.show()"
   ]
  },
  {
   "cell_type": "code",
   "execution_count": 6,
   "id": "392f1c0c",
   "metadata": {},
   "outputs": [
    {
     "data": {
      "image/png": "[encoded data removed]",
      "text/plain": [
       "<Figure size 432x288 with 1 Axes>"
      ]
     },
     "metadata": {
      "needs_background": "light"
     },
     "output_type": "display_data"
    }
   ],
   "source": [
    "ls_series = df[\"Lich Su\"]\n",
    "ls_series.plot.hist(bins=20)\n",
    "plt.axvline(x=ls_series.mean(), color='r', label=\"trung bình\")\n",
    "plt.xticks(list(range(0, 11,2)) + [round(ls_series.mean(),1)])\n",
    "plt.legend()\n",
    "plt.show()"
   ]
  },
  {
   "cell_type": "code",
   "execution_count": 7,
   "id": "2f667a4c",
   "metadata": {},
   "outputs": [
    {
     "data": {
      "image/png": "[encoded data removed]",
      "text/plain": [
       "<Figure size 432x288 with 1 Axes>"
      ]
     },
     "metadata": {
      "needs_background": "light"
     },
     "output_type": "display_data"
    }
   ],
   "source": [
    "cd_series = df[\"GDCD\"]\n",
    "cd_series.plot.hist(bins=20)\n",
    "plt.axvline(x=cd_series.mean(), color='r', label=\"trung bình\")\n",
    "plt.xticks(list(range(0, 11,2)) + [round(cd_series.mean(),1)])\n",
    "plt.legend()\n",
    "plt.show()"
   ]
  },
  {
   "cell_type": "code",
   "execution_count": 8,
   "id": "db2c0620",
   "metadata": {},
   "outputs": [
    {
     "data": {
      "image/png": "[encoded data removed]",
      "text/plain": [
       "<Figure size 432x288 with 1 Axes>"
      ]
     },
     "metadata": {
      "needs_background": "light"
     },
     "output_type": "display_data"
    }
   ],
   "source": [
    "dl_series = df[\"Dia Ly\"]\n",
    "dl_series.plot.hist(bins=20)\n",
    "plt.axvline(x=dl_series.mean(), color='r', label=\"trung bình\")\n",
    "plt.xticks(list(range(0, 11,2)) + [round(dl_series.mean(),1)])\n",
    "plt.legend()\n",
    "plt.show()"
   ]
  },
  {
   "cell_type": "code",
   "execution_count": 9,
   "id": "4cd07278",
   "metadata": {},
   "outputs": [
    {
     "data": {
      "image/png": "[encoded data removed]",
      "text/plain": [
       "<Figure size 432x288 with 1 Axes>"
      ]
     },
     "metadata": {
      "needs_background": "light"
     },
     "output_type": "display_data"
    }
   ],
   "source": [
    "nn_series = df[\"Ngoai Ngu\"]\n",
    "nn_series.plot.hist(bins=20)\n",
    "plt.axvline(x=nn_series.mean(), color='r', label=\"trung bình\")\n",
    "plt.xticks(list(range(0, 11,2)) + [round(nn_series.mean(),1)])\n",
    "plt.legend()\n",
    "plt.show()"
   ]
  },
  {
   "cell_type": "code",
   "execution_count": 35,
   "id": "5b3fc1d4",
   "metadata": {},
   "outputs": [
    {
     "data": {
      "text/plain": [
       "N1    726064\n",
       "N4       801\n",
       "N6       773\n",
       "N3       646\n",
       "N2       148\n",
       "N5        81\n",
       "Name: Ma Ngoai Ngu, dtype: int64"
      ]
     },
     "execution_count": 35,
     "metadata": {},
     "output_type": "execute_result"
    }
   ],
   "source": [
    "df[\"Ma Ngoai Ngu\"].value_counts()"
   ]
  },
  {
   "cell_type": "code",
   "execution_count": 10,
   "id": "91b2e703",
   "metadata": {},
   "outputs": [
    {
     "data": {
      "image/png": "[encoded data removed]",
      "text/plain": [
       "<Figure size 1440x1440 with 6 Axes>"
      ]
     },
     "metadata": {
      "needs_background": "light"
     },
     "output_type": "display_data"
    }
   ],
   "source": [
    "nn_dict = {\n",
    "    \"N1\": \"Tiếng Anh\",\n",
    "    \"N2\": \"Tiếng Nga\",\n",
    "    \"N3\": \"Tiếng Pháp\",\n",
    "    \"N4\": \"Tiếng Trung\",\n",
    "    \"N5\": \"Tiếng Đức\",\n",
    "    \"N6\": \"Tiếng Nhật\",\n",
    "}\n",
    "nn_df = pd.DataFrame(df[[\"Ngoai Ngu\", \"Ma Ngoai Ngu\"]]).replace(nn_dict)\n",
    "\n",
    "nn_df[\"Ngoai Ngu\"].hist(by=nn_df[\"Ma Ngoai Ngu\"], figsize=(20,20), bins=10)\n",
    "plt.show()"
   ]
  },
  {
   "cell_type": "code",
   "execution_count": null,
   "id": "b1b99793",
   "metadata": {},
   "outputs": [],
   "source": []
  }
 ],
 "metadata": {
  "kernelspec": {
   "display_name": "Python 3",
   "language": "python",
   "name": "python3"
  },
  "language_info": {
   "codemirror_mode": {
    "name": "ipython",
    "version": 3
   },
   "file_extension": ".py",
   "mimetype": "text/x-python",
   "name": "python",
   "nbconvert_exporter": "python",
   "pygments_lexer": "ipython3",
   "version": "3.8.8"
  }
 },
 "nbformat": 4,
 "nbformat_minor": 5
}
