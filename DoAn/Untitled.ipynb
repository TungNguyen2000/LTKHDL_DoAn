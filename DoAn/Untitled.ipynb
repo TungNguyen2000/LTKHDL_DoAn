{
 "cells": [
  {
   "cell_type": "code",
   "execution_count": 1,
   "id": "d83f0b34",
   "metadata": {},
   "outputs": [
    {
     "name": "stdout",
     "output_type": "stream",
     "text": [
      "/home/bachtung/miniconda3/envs/p4ds-env/bin/python\r\n"
     ]
    }
   ],
   "source": [
    "!which python "
   ]
  },
  {
   "cell_type": "code",
   "execution_count": 2,
   "id": "68b3b347",
   "metadata": {},
   "outputs": [],
   "source": [
    "import pandas as pd\n",
    "import matplotlib.pyplot as plt\n",
    "import numpy as np"
   ]
  },
  {
   "cell_type": "code",
   "execution_count": 3,
   "id": "fddf3edb",
   "metadata": {},
   "outputs": [
    {
     "data": {
      "text/html": [
       "<div>\n",
       "<style scoped>\n",
       "    .dataframe tbody tr th:only-of-type {\n",
       "        vertical-align: middle;\n",
       "    }\n",
       "\n",
       "    .dataframe tbody tr th {\n",
       "        vertical-align: top;\n",
       "    }\n",
       "\n",
       "    .dataframe thead th {\n",
       "        text-align: right;\n",
       "    }\n",
       "</style>\n",
       "<table border=\"1\" class=\"dataframe\">\n",
       "  <thead>\n",
       "    <tr style=\"text-align: right;\">\n",
       "      <th></th>\n",
       "      <th>Unnamed: 0</th>\n",
       "      <th>SBD</th>\n",
       "      <th>Ngu Van</th>\n",
       "      <th>Toan Hoc</th>\n",
       "      <th>Ma Ngoai Ngu</th>\n",
       "      <th>Ngoai Ngu</th>\n",
       "      <th>Vat Ly</th>\n",
       "      <th>Hoa Hoc</th>\n",
       "      <th>Sinh Hoc</th>\n",
       "      <th>Lich Su</th>\n",
       "      <th>Dia Ly</th>\n",
       "      <th>GDCD</th>\n",
       "    </tr>\n",
       "  </thead>\n",
       "  <tbody>\n",
       "    <tr>\n",
       "      <th>0</th>\n",
       "      <td>0</td>\n",
       "      <td>24008611</td>\n",
       "      <td>8.00</td>\n",
       "      <td>8.2</td>\n",
       "      <td>N1</td>\n",
       "      <td>7.6</td>\n",
       "      <td>NaN</td>\n",
       "      <td>NaN</td>\n",
       "      <td>NaN</td>\n",
       "      <td>8.25</td>\n",
       "      <td>7.75</td>\n",
       "      <td>8.75</td>\n",
       "    </tr>\n",
       "    <tr>\n",
       "      <th>1</th>\n",
       "      <td>1</td>\n",
       "      <td>51000032</td>\n",
       "      <td>6.17</td>\n",
       "      <td>8.6</td>\n",
       "      <td>N1</td>\n",
       "      <td>8.0</td>\n",
       "      <td>8.25</td>\n",
       "      <td>4.5</td>\n",
       "      <td>6.0</td>\n",
       "      <td>NaN</td>\n",
       "      <td>NaN</td>\n",
       "      <td>NaN</td>\n",
       "    </tr>\n",
       "    <tr>\n",
       "      <th>2</th>\n",
       "      <td>2</td>\n",
       "      <td>51000005</td>\n",
       "      <td>4.75</td>\n",
       "      <td>5.2</td>\n",
       "      <td>NaN</td>\n",
       "      <td>NaN</td>\n",
       "      <td>NaN</td>\n",
       "      <td>NaN</td>\n",
       "      <td>NaN</td>\n",
       "      <td>4.00</td>\n",
       "      <td>4.25</td>\n",
       "      <td>5.75</td>\n",
       "    </tr>\n",
       "    <tr>\n",
       "      <th>3</th>\n",
       "      <td>3</td>\n",
       "      <td>51000021</td>\n",
       "      <td>4.50</td>\n",
       "      <td>4.4</td>\n",
       "      <td>NaN</td>\n",
       "      <td>NaN</td>\n",
       "      <td>NaN</td>\n",
       "      <td>NaN</td>\n",
       "      <td>NaN</td>\n",
       "      <td>2.25</td>\n",
       "      <td>4.75</td>\n",
       "      <td>5.00</td>\n",
       "    </tr>\n",
       "    <tr>\n",
       "      <th>4</th>\n",
       "      <td>4</td>\n",
       "      <td>51000013</td>\n",
       "      <td>6.00</td>\n",
       "      <td>5.8</td>\n",
       "      <td>N1</td>\n",
       "      <td>4.4</td>\n",
       "      <td>NaN</td>\n",
       "      <td>NaN</td>\n",
       "      <td>NaN</td>\n",
       "      <td>7.75</td>\n",
       "      <td>8.25</td>\n",
       "      <td>7.50</td>\n",
       "    </tr>\n",
       "  </tbody>\n",
       "</table>\n",
       "</div>"
      ],
      "text/plain": [
       "   Unnamed: 0       SBD  Ngu Van  Toan Hoc Ma Ngoai Ngu  Ngoai Ngu  Vat Ly  \\\n",
       "0           0  24008611     8.00       8.2           N1        7.6     NaN   \n",
       "1           1  51000032     6.17       8.6           N1        8.0    8.25   \n",
       "2           2  51000005     4.75       5.2          NaN        NaN     NaN   \n",
       "3           3  51000021     4.50       4.4          NaN        NaN     NaN   \n",
       "4           4  51000013     6.00       5.8           N1        4.4     NaN   \n",
       "\n",
       "   Hoa Hoc  Sinh Hoc  Lich Su  Dia Ly  GDCD  \n",
       "0      NaN       NaN     8.25    7.75  8.75  \n",
       "1      4.5       6.0      NaN     NaN   NaN  \n",
       "2      NaN       NaN     4.00    4.25  5.75  \n",
       "3      NaN       NaN     2.25    4.75  5.00  \n",
       "4      NaN       NaN     7.75    8.25  7.50  "
      ]
     },
     "execution_count": 3,
     "metadata": {},
     "output_type": "execute_result"
    }
   ],
   "source": [
    "point_df = pd.read_csv('diemthi2019_update.csv') \n",
    "point_df.head()"
   ]
  },
  {
   "cell_type": "code",
   "execution_count": 4,
   "id": "df91d91a",
   "metadata": {},
   "outputs": [
    {
     "data": {
      "text/html": [
       "<div>\n",
       "<style scoped>\n",
       "    .dataframe tbody tr th:only-of-type {\n",
       "        vertical-align: middle;\n",
       "    }\n",
       "\n",
       "    .dataframe tbody tr th {\n",
       "        vertical-align: top;\n",
       "    }\n",
       "\n",
       "    .dataframe thead th {\n",
       "        text-align: right;\n",
       "    }\n",
       "</style>\n",
       "<table border=\"1\" class=\"dataframe\">\n",
       "  <thead>\n",
       "    <tr style=\"text-align: right;\">\n",
       "      <th></th>\n",
       "      <th>SBD</th>\n",
       "      <th>Toan Hoc</th>\n",
       "      <th>Vat Ly</th>\n",
       "      <th>Hoa Hoc</th>\n",
       "      <th>Sinh Hoc</th>\n",
       "    </tr>\n",
       "  </thead>\n",
       "  <tbody>\n",
       "    <tr>\n",
       "      <th>0</th>\n",
       "      <td>24008611</td>\n",
       "      <td>8.2</td>\n",
       "      <td>NaN</td>\n",
       "      <td>NaN</td>\n",
       "      <td>NaN</td>\n",
       "    </tr>\n",
       "    <tr>\n",
       "      <th>1</th>\n",
       "      <td>51000032</td>\n",
       "      <td>8.6</td>\n",
       "      <td>8.25</td>\n",
       "      <td>4.5</td>\n",
       "      <td>6.0</td>\n",
       "    </tr>\n",
       "    <tr>\n",
       "      <th>2</th>\n",
       "      <td>51000005</td>\n",
       "      <td>5.2</td>\n",
       "      <td>NaN</td>\n",
       "      <td>NaN</td>\n",
       "      <td>NaN</td>\n",
       "    </tr>\n",
       "    <tr>\n",
       "      <th>3</th>\n",
       "      <td>51000021</td>\n",
       "      <td>4.4</td>\n",
       "      <td>NaN</td>\n",
       "      <td>NaN</td>\n",
       "      <td>NaN</td>\n",
       "    </tr>\n",
       "    <tr>\n",
       "      <th>4</th>\n",
       "      <td>51000013</td>\n",
       "      <td>5.8</td>\n",
       "      <td>NaN</td>\n",
       "      <td>NaN</td>\n",
       "      <td>NaN</td>\n",
       "    </tr>\n",
       "  </tbody>\n",
       "</table>\n",
       "</div>"
      ],
      "text/plain": [
       "        SBD  Toan Hoc  Vat Ly  Hoa Hoc  Sinh Hoc\n",
       "0  24008611       8.2     NaN      NaN       NaN\n",
       "1  51000032       8.6    8.25      4.5       6.0\n",
       "2  51000005       5.2     NaN      NaN       NaN\n",
       "3  51000021       4.4     NaN      NaN       NaN\n",
       "4  51000013       5.8     NaN      NaN       NaN"
      ]
     },
     "execution_count": 4,
     "metadata": {},
     "output_type": "execute_result"
    }
   ],
   "source": [
    "point_df = point_df[['SBD', 'Toan Hoc', 'Vat Ly', 'Hoa Hoc', 'Sinh Hoc']]\n",
    "point_df.head()"
   ]
  },
  {
   "cell_type": "markdown",
   "id": "d5798864",
   "metadata": {},
   "source": [
    "**có bao nhiêu dòng và cột**"
   ]
  },
  {
   "cell_type": "code",
   "execution_count": 5,
   "id": "c6be7825",
   "metadata": {},
   "outputs": [],
   "source": [
    "num_cols_point = point_df.shape[1]\n",
    "num_rows_point = point_df.shape[0]"
   ]
  },
  {
   "cell_type": "markdown",
   "id": "a02a6edc",
   "metadata": {},
   "source": [
    "Một dòng là set điểm của một học sinh khóa 2019. Có vẻ không có dòng nào là bị lặp"
   ]
  },
  {
   "cell_type": "code",
   "execution_count": 6,
   "id": "392c7e4c",
   "metadata": {},
   "outputs": [],
   "source": [
    "have_duplicated = point_df.duplicated().any()"
   ]
  },
  {
   "cell_type": "markdown",
   "id": "640b707e",
   "metadata": {},
   "source": [
    "- **SBD**: số báo danh của thí sinh.\n",
    "- **Toán Học**: điểm thi môn toán.\n",
    "- **Vật Lý**: điểm thi môn Vật Lý.\n",
    "- **Hóa Học**: điểm thi môn Hóa.\n",
    "- **Sinh học** điểm thi môn Sinh."
   ]
  },
  {
   "cell_type": "code",
   "execution_count": 7,
   "id": "30d86dbe",
   "metadata": {},
   "outputs": [
    {
     "data": {
      "text/plain": [
       "SBD           int64\n",
       "Toan Hoc    float64\n",
       "Vat Ly      float64\n",
       "Hoa Hoc     float64\n",
       "Sinh Hoc    float64\n",
       "dtype: object"
      ]
     },
     "execution_count": 7,
     "metadata": {},
     "output_type": "execute_result"
    }
   ],
   "source": [
    "cols_dtype = pd.Series(data=point_df.dtypes, index=point_df.columns)\n",
    "cols_dtype"
   ]
  },
  {
   "cell_type": "markdown",
   "id": "1bb12aae",
   "metadata": {},
   "source": [
    "tìm tỷ lệ giá trị thiếu, min, max của các cột numeric"
   ]
  },
  {
   "cell_type": "code",
   "execution_count": 8,
   "id": "44c6c039",
   "metadata": {},
   "outputs": [],
   "source": [
    "index = ['missing_ratio', 'min', 'max']\n",
    "nume_columns = ['Toan Hoc', 'Vat Ly', 'Hoa Hoc', 'Sinh Hoc']\n",
    "nume_col_profile_df = pd.DataFrame(index = index, columns = nume_columns)\n",
    "nume_col_profile_df = nume_col_profile_df.fillna(0)\n",
    "nume_col_profile_df.iloc[0,:] = (point_df[nume_columns[:]].isna().sum() / num_rows_point) *100\n",
    "nume_col_profile_df.iloc[1,:] = point_df[nume_columns[:]].min()\n",
    "nume_col_profile_df.iloc[2,:] = point_df[nume_columns[:]].max()"
   ]
  },
  {
   "cell_type": "markdown",
   "id": "f5a8e3ac",
   "metadata": {},
   "source": [
    "tỉ lệ thiếu các môn tự nhiên"
   ]
  },
  {
   "cell_type": "code",
   "execution_count": 9,
   "id": "4239b755",
   "metadata": {},
   "outputs": [
    {
     "data": {
      "text/plain": [
       "<AxesSubplot:>"
      ]
     },
     "execution_count": 9,
     "metadata": {},
     "output_type": "execute_result"
    },
    {
     "data": {
      "image/png": "[encoded data removed]",
      "text/plain": [
       "<Figure size 432x288 with 1 Axes>"
      ]
     },
     "metadata": {
      "needs_background": "light"
     },
     "output_type": "display_data"
    }
   ],
   "source": [
    "nume_col_profile_df.loc['missing_ratio'].plot.barh()"
   ]
  },
  {
   "cell_type": "code",
   "execution_count": 10,
   "id": "bde50ab3",
   "metadata": {},
   "outputs": [
    {
     "data": {
      "image/png": "[encoded data removed]",
      "text/plain": [
       "<Figure size 432x288 with 1 Axes>"
      ]
     },
     "metadata": {
      "needs_background": "light"
     },
     "output_type": "display_data"
    }
   ],
   "source": [
    "th_series = point_df[\"Toan Hoc\"]\n",
    "th_series.plot.hist(bins=20)\n",
    "plt.xticks(list(range(0, 11,2)) + [round(th_series.mean(),1)])\n",
    "plt.xlabel(\"Toan Hoc\")\n",
    "plt.show()"
   ]
  },
  {
   "cell_type": "code",
   "execution_count": 11,
   "id": "ac91e62a",
   "metadata": {},
   "outputs": [
    {
     "data": {
      "image/png": "[encoded data removed]",
      "text/plain": [
       "<Figure size 432x288 with 1 Axes>"
      ]
     },
     "metadata": {
      "needs_background": "light"
     },
     "output_type": "display_data"
    }
   ],
   "source": [
    "vl_series = point_df[\"Vat Ly\"]\n",
    "vl_series.plot.hist(bins=20)\n",
    "plt.xticks(list(range(0, 11,2)) + [round(vl_series.mean(),1)])\n",
    "plt.xlabel(\"Vat Ly\")\n",
    "plt.show()"
   ]
  },
  {
   "cell_type": "code",
   "execution_count": 12,
   "id": "ecfe9dcf",
   "metadata": {},
   "outputs": [
    {
     "data": {
      "image/png": "[encoded data removed]",
      "text/plain": [
       "<Figure size 432x288 with 1 Axes>"
      ]
     },
     "metadata": {
      "needs_background": "light"
     },
     "output_type": "display_data"
    }
   ],
   "source": [
    "hh_series = point_df[\"Hoa Hoc\"]\n",
    "hh_series.plot.hist(bins=20)\n",
    "plt.xticks(list(range(0, 11,2)) + [round(hh_series.mean(),1)])\n",
    "plt.xlabel(\"Hoa Hoc\")\n",
    "plt.show()"
   ]
  },
  {
   "cell_type": "code",
   "execution_count": 13,
   "id": "26fb64c0",
   "metadata": {},
   "outputs": [
    {
     "data": {
      "image/png": "[encoded data removed]",
      "text/plain": [
       "<Figure size 432x288 with 1 Axes>"
      ]
     },
     "metadata": {
      "needs_background": "light"
     },
     "output_type": "display_data"
    }
   ],
   "source": [
    "sh_series = point_df[\"Sinh Hoc\"]\n",
    "sh_series.plot.hist(bins=20)\n",
    "plt.xticks(list(range(0, 11,2)) + [round(sh_series.mean(),1)])\n",
    "plt.xlabel(\"Sinh Hoc\")\n",
    "plt.show()"
   ]
  },
  {
   "cell_type": "code",
   "execution_count": null,
   "id": "ad6b2aa0",
   "metadata": {},
   "outputs": [],
   "source": []
  }
 ],
 "metadata": {
  "kernelspec": {
   "display_name": "Python 3",
   "language": "python",
   "name": "python3"
  },
  "language_info": {
   "codemirror_mode": {
    "name": "ipython",
    "version": 3
   },
   "file_extension": ".py",
   "mimetype": "text/x-python",
   "name": "python",
   "nbconvert_exporter": "python",
   "pygments_lexer": "ipython3",
   "version": "3.8.8"
  }
 },
 "nbformat": 4,
 "nbformat_minor": 5
}
